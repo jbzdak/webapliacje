{
 "metadata": {
  "celltoolbar": "Slideshow",
  "name": "",
  "signature": "sha256:c6087699b3d69cb6676c23e94d65280bd75e6cc1bdbcb00eea910166dba63427"
 },
 "nbformat": 3,
 "nbformat_minor": 0,
 "worksheets": [
  {
   "cells": [
    {
     "cell_type": "code",
     "collapsed": false,
     "input": [
      "import math "
     ],
     "language": "python",
     "metadata": {},
     "outputs": [],
     "prompt_number": 1
    },
    {
     "cell_type": "markdown",
     "metadata": {},
     "source": [
      "## Zadanie 1"
     ]
    },
    {
     "cell_type": "markdown",
     "metadata": {},
     "source": [
      "Dokumentacja funkcji sorted [sorted](<https://docs.python.org/3/library/functions.html#sorted>) twierdzi \u017ce funkcja przekazana jako argument ``key`` jest wykonywana raz dla ka\u017cdego elementu tablicy. Nie wierz\u0119 w to!\n",
      "\n",
      "Napisz funkcj\u0119/obiekt key kt\u00f3ry liczy ile razy zosta\u0142a wywo\u0142ana i udowodnij mi \u017ce dokumentacja nie k\u0142amie. \n",
      "\n",
      "Podpowied\u017c: \n",
      "\n",
      "* Mo\u017cesz u\u017cy\u0107 domkni\u0119cia.\n",
      "* Mo\u017cesz zamiast funkcji przekaza\u0107 obiekt, kt\u00f3ry ma prze\u0142adowany operator (). \n",
      "\n",
      "Przyk\u0142ad: \n"
     ]
    },
    {
     "cell_type": "code",
     "collapsed": false,
     "input": [
      "class Functor(object): \n",
      "    def __call__(self, arg): \n",
      "        print(arg)\n",
      "        return arg\n",
      "    \n",
      "f = Functor()\n",
      "\n",
      "f(10)\n",
      "        "
     ],
     "language": "python",
     "metadata": {},
     "outputs": [
      {
       "output_type": "stream",
       "stream": "stdout",
       "text": [
        "10\n"
       ]
      },
      {
       "metadata": {},
       "output_type": "pyout",
       "prompt_number": 3,
       "text": [
        "10"
       ]
      }
     ],
     "prompt_number": 3
    },
    {
     "cell_type": "code",
     "collapsed": false,
     "input": [
      "count = 0\n",
      "def key(x):\n",
      "    global count\n",
      "    count+=1\n",
      "    return x"
     ],
     "language": "python",
     "metadata": {},
     "outputs": [],
     "prompt_number": 4
    },
    {
     "cell_type": "code",
     "collapsed": false,
     "input": [
      "sorted(range(10), key=key)\n",
      "count"
     ],
     "language": "python",
     "metadata": {},
     "outputs": [
      {
       "metadata": {},
       "output_type": "pyout",
       "prompt_number": 5,
       "text": [
        "10"
       ]
      }
     ],
     "prompt_number": 5
    },
    {
     "cell_type": "code",
     "collapsed": false,
     "input": [
      "## Zadanie 2"
     ],
     "language": "python",
     "metadata": {},
     "outputs": [],
     "prompt_number": 9
    },
    {
     "cell_type": "markdown",
     "metadata": {},
     "source": [
      "Napisz funkcj\u0119 kt\u00f3ra jest bardziej rozwini\u0119t\u0105 funkcji ``range``, przjmowac ona b\u0119dzie trzy argumenty: \n",
      "x0, xN oraz n. A zwraca\u0107\u00a0b\u0119dzie list\u0119 maj\u0105c\u0105 n element\u00f3w pierwszym jest x0, ostatnim xN, \n",
      "a warto\u015bci pomi\u0119dzy s\u0105\u00a0roz\u0142o\u017cone r\u00f3wnomiernie. \n",
      "\n",
      "Funkcja ta mo\u017ce przyjmowa\u0107 warto\u015bci zmiennoprzecinkowe. "
     ]
    },
    {
     "cell_type": "code",
     "collapsed": false,
     "input": [
      "def arange(x0, xN, n): \n",
      "    step = (xN-x0)/(n-1)\n",
      "    result = []\n",
      "    for ii in range(n-1):\n",
      "        result.append(x0+ii*step)\n",
      "    result.append(xN)\n",
      "    return result"
     ],
     "language": "python",
     "metadata": {},
     "outputs": [],
     "prompt_number": 12
    },
    {
     "cell_type": "code",
     "collapsed": false,
     "input": [
      "arange(1, 10, 10)"
     ],
     "language": "python",
     "metadata": {},
     "outputs": [
      {
       "metadata": {},
       "output_type": "pyout",
       "prompt_number": 14,
       "text": [
        "[1.0, 2.0, 3.0, 4.0, 5.0, 6.0, 7.0, 8.0, 9.0, 10]"
       ]
      }
     ],
     "prompt_number": 14
    },
    {
     "cell_type": "code",
     "collapsed": false,
     "input": [
      "arange(3, 5, 100)"
     ],
     "language": "python",
     "metadata": {},
     "outputs": [
      {
       "metadata": {},
       "output_type": "pyout",
       "prompt_number": 17,
       "text": [
        "[3.0,\n",
        " 3.0202020202020203,\n",
        " 3.04040404040404,\n",
        " 3.0606060606060606,\n",
        " 3.080808080808081,\n",
        " 3.101010101010101,\n",
        " 3.121212121212121,\n",
        " 3.1414141414141414,\n",
        " 3.1616161616161618,\n",
        " 3.1818181818181817,\n",
        " 3.202020202020202,\n",
        " 3.2222222222222223,\n",
        " 3.242424242424242,\n",
        " 3.2626262626262625,\n",
        " 3.282828282828283,\n",
        " 3.303030303030303,\n",
        " 3.323232323232323,\n",
        " 3.3434343434343434,\n",
        " 3.3636363636363638,\n",
        " 3.383838383838384,\n",
        " 3.404040404040404,\n",
        " 3.4242424242424243,\n",
        " 3.4444444444444446,\n",
        " 3.4646464646464645,\n",
        " 3.484848484848485,\n",
        " 3.505050505050505,\n",
        " 3.525252525252525,\n",
        " 3.5454545454545454,\n",
        " 3.5656565656565657,\n",
        " 3.5858585858585856,\n",
        " 3.606060606060606,\n",
        " 3.6262626262626263,\n",
        " 3.6464646464646466,\n",
        " 3.666666666666667,\n",
        " 3.686868686868687,\n",
        " 3.707070707070707,\n",
        " 3.7272727272727275,\n",
        " 3.7474747474747474,\n",
        " 3.7676767676767677,\n",
        " 3.787878787878788,\n",
        " 3.808080808080808,\n",
        " 3.8282828282828283,\n",
        " 3.8484848484848486,\n",
        " 3.8686868686868685,\n",
        " 3.888888888888889,\n",
        " 3.909090909090909,\n",
        " 3.9292929292929295,\n",
        " 3.94949494949495,\n",
        " 3.9696969696969697,\n",
        " 3.98989898989899,\n",
        " 4.01010101010101,\n",
        " 4.03030303030303,\n",
        " 4.05050505050505,\n",
        " 4.070707070707071,\n",
        " 4.090909090909091,\n",
        " 4.111111111111111,\n",
        " 4.1313131313131315,\n",
        " 4.151515151515151,\n",
        " 4.171717171717171,\n",
        " 4.191919191919192,\n",
        " 4.212121212121212,\n",
        " 4.232323232323233,\n",
        " 4.252525252525253,\n",
        " 4.272727272727273,\n",
        " 4.292929292929293,\n",
        " 4.313131313131313,\n",
        " 4.333333333333334,\n",
        " 4.353535353535354,\n",
        " 4.373737373737374,\n",
        " 4.3939393939393945,\n",
        " 4.414141414141414,\n",
        " 4.434343434343434,\n",
        " 4.454545454545455,\n",
        " 4.474747474747475,\n",
        " 4.494949494949495,\n",
        " 4.515151515151516,\n",
        " 4.5353535353535355,\n",
        " 4.555555555555555,\n",
        " 4.575757575757576,\n",
        " 4.595959595959596,\n",
        " 4.616161616161616,\n",
        " 4.636363636363637,\n",
        " 4.656565656565657,\n",
        " 4.6767676767676765,\n",
        " 4.696969696969697,\n",
        " 4.717171717171717,\n",
        " 4.737373737373737,\n",
        " 4.757575757575758,\n",
        " 4.777777777777778,\n",
        " 4.7979797979797985,\n",
        " 4.818181818181818,\n",
        " 4.838383838383838,\n",
        " 4.858585858585859,\n",
        " 4.878787878787879,\n",
        " 4.8989898989899,\n",
        " 4.91919191919192,\n",
        " 4.9393939393939394,\n",
        " 4.95959595959596,\n",
        " 4.97979797979798,\n",
        " 5]"
       ]
      }
     ],
     "prompt_number": 17
    },
    {
     "cell_type": "code",
     "collapsed": false,
     "input": [],
     "language": "python",
     "metadata": {},
     "outputs": []
    },
    {
     "cell_type": "code",
     "collapsed": false,
     "input": [
      "## Zadanie 3"
     ],
     "language": "python",
     "metadata": {
      "slideshow": {
       "slide_type": "slide"
      }
     },
     "outputs": [],
     "prompt_number": 8
    },
    {
     "cell_type": "markdown",
     "metadata": {},
     "source": [
      "Napisz funkcj\u0119 kt\u00f3ra ma tak\u0105 sygnatur\u0119: \n"
     ]
    },
    {
     "cell_type": "code",
     "collapsed": false,
     "input": [
      "def furier(furier_arg, points): \n",
      "    \"\"\"\n",
      "        furier_arg to lista float\u00f3w kt\u00f3re definiuj\u0105 wsp\u00f3\u0142czynniki rozk\u0142adu pewnej funkcji F\n",
      "        na wsp\u00f3\u0142czynniki furiera (dla ustalenia uwagi s\u0105 to wsp\u00f3\u0142czynniki przy sinusach)\n",
      "        points to list punktow dla kt\u00f3rych warto\u015bci funkcji F b\u0119d\u0105\u00a0zwr\u00f3cone\n",
      "    \"\"\"\n",
      "    pass"
     ],
     "language": "python",
     "metadata": {
      "slideshow": {
       "slide_type": "fragment"
      }
     },
     "outputs": [],
     "prompt_number": 7
    },
    {
     "cell_type": "code",
     "collapsed": false,
     "input": [
      "def furier(args, points): \n",
      "    result = []\n",
      "    for point in points: \n",
      "        for "
     ],
     "language": "python",
     "metadata": {},
     "outputs": []
    },
    {
     "cell_type": "code",
     "collapsed": false,
     "input": [
      "## Zadanie 3a"
     ],
     "language": "python",
     "metadata": {
      "slideshow": {
       "slide_type": "slide"
      }
     },
     "outputs": [],
     "prompt_number": 18
    },
    {
     "cell_type": "markdown",
     "metadata": {},
     "source": [
      "Popraw funkcj\u0119\u00a0z poprzedniego zadania tak by mo\u017cna by\u0142o wybra\u0107\u00a0czy rozk\u0142adamy na `sin` czy `cos`. "
     ]
    },
    {
     "cell_type": "code",
     "collapsed": false,
     "input": [
      "## Zadanie 4"
     ],
     "language": "python",
     "metadata": {},
     "outputs": [],
     "prompt_number": 19
    },
    {
     "cell_type": "markdown",
     "metadata": {},
     "source": [
      "Stw\u00f3rz klas\u0119 `Integrator` kt\u00f3ra implementowa\u0107 b\u0119dzie interfejs dokonuj\u0105cy ca\u0142kowania numerycznego. \n",
      "\n",
      "Stw\u00f3rz klasy `RectangleIntegrator` (ca\u0142kuj\u0105ca metod\u0105\u00a0prostok\u0105t\u00f3w), `TrapesoidIntegrator` (ca\u0142kuj\u0105ca metod\u0105\u00a0tr\u00f3jk\u0105t\u00f3w), `SimpsonIntegrator` (Ca\u0142kuj\u0105ce metod\u0105 Simpsona) dziedzicz\u0105 po klasie `Calka`. \n",
      "\n",
      "\n",
      "**Challenge**: \n",
      "Stw\u00f3rz klas\u0119 `AdaptativeSimpsonIntegral` kt\u00f3ra u\u017cywa adaptatywnej ca\u0142ki simpsona \n",
      "\n",
      "**Challenge**\n",
      "Klasa ca\u0142kuj\u0105ca powinna mie\u0107 nast\u0119puj\u0105ce API: \n",
      "\n",
      "int = TrapesoidIntegrator(math.sin)\n",
      "result = int[0:10:0.001]"
     ]
    },
    {
     "cell_type": "code",
     "collapsed": false,
     "input": [
      "class RectangleIntegrator(object): \n",
      "    \n",
      "    def __init__(self, func):\n",
      "        self.func = func\n",
      "    \n",
      "    def __getitem__(self, sl): \n",
      "        \n",
      "        current = sl.start + sl.step/2\n",
      "        \n",
      "        sum = 0\n",
      "        \n",
      "        while current <= sl.stop:\n",
      "            sum += self.func(current)*sl.step\n",
      "            current+=sl.step\n",
      "            \n",
      "        return sum\n",
      "        \n",
      "        "
     ],
     "language": "python",
     "metadata": {},
     "outputs": [],
     "prompt_number": 15
    },
    {
     "cell_type": "code",
     "collapsed": false,
     "input": [
      "import math\n",
      "int = RectangleIntegrator(math.sin)\n",
      "int[0:math.pi*2:0.01]"
     ],
     "language": "python",
     "metadata": {},
     "outputs": [
      {
       "metadata": {},
       "output_type": "pyout",
       "prompt_number": 29,
       "text": [
        "5.073107732548479e-06"
       ]
      }
     ],
     "prompt_number": 29
    },
    {
     "cell_type": "code",
     "collapsed": false,
     "input": [
      "class TrapesoidIntegrator(object): \n",
      "    \n",
      "    def __init__(self, func):\n",
      "        self.func = func\n",
      "    \n",
      "    def __getitem__(self, sl): \n",
      "        \n",
      "        current = sl.start\n",
      "        \n",
      "        last = self.func(current)\n",
      "        \n",
      "        sum = 0\n",
      "        \n",
      "        while current <= sl.stop:\n",
      "            current+=sl.step\n",
      "            next = self.func(current)\n",
      "            sum += (last+next)*0.5*sl.step\n",
      "            last=next\n",
      "            \n",
      "        return sum"
     ],
     "language": "python",
     "metadata": {},
     "outputs": [],
     "prompt_number": 30
    },
    {
     "cell_type": "code",
     "collapsed": false,
     "input": [
      "import math\n",
      "int = TrapesoidIntegrator(math.sin)\n",
      "int[-math.pi:math.pi:0.01]"
     ],
     "language": "python",
     "metadata": {},
     "outputs": [
      {
       "metadata": {},
       "output_type": "pyout",
       "prompt_number": 31,
       "text": [
        "-2.3219735758072905e-05"
       ]
      }
     ],
     "prompt_number": 31
    },
    {
     "cell_type": "code",
     "collapsed": false,
     "input": [
      "class SimpsonIntegrator(object): \n",
      "    \n",
      "    def __init__(self, func):\n",
      "        self.func = func\n",
      "    \n",
      "    def __getitem__(self, sl): \n",
      "        \n",
      "        current = sl.start\n",
      "        \n",
      "        last = self.func(current)\n",
      "        \n",
      "        sum = 0\n",
      "        \n",
      "        while current <= sl.stop:\n",
      "            middle=self.func(current+sl.step/2)\n",
      "            current+=sl.step            \n",
      "            next = self.func(current)\n",
      "            \n",
      "            sum += (last+4*middle+next)*(1/6)*sl.step\n",
      "            last=next\n",
      "            \n",
      "        return sum"
     ],
     "language": "python",
     "metadata": {},
     "outputs": [],
     "prompt_number": 1
    },
    {
     "cell_type": "code",
     "collapsed": false,
     "input": [
      "import math\n",
      "int = SimpsonIntegrator(math.sin)\n",
      "int[-math.pi:math.pi:0.01]"
     ],
     "language": "python",
     "metadata": {},
     "outputs": [
      {
       "metadata": {},
       "output_type": "pyout",
       "prompt_number": 4,
       "text": [
        "-2.3219929256507208e-05"
       ]
      }
     ],
     "prompt_number": 4
    },
    {
     "cell_type": "code",
     "collapsed": false,
     "input": [],
     "language": "python",
     "metadata": {},
     "outputs": []
    }
   ],
   "metadata": {}
  }
 ]
}