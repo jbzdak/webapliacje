{
 "metadata": {
  "celltoolbar": "Slideshow",
  "name": "",
  "signature": "sha256:cfb3d1047e53687c59d404bcd70fc760ef94dc7d4f664d3a144790ab8baa0d42"
 },
 "nbformat": 3,
 "nbformat_minor": 0,
 "worksheets": [
  {
   "cells": [
    {
     "cell_type": "markdown",
     "metadata": {
      "slideshow": {
       "slide_type": "slide"
      }
     },
     "source": [
      "# Wprowadzenie do Pythona \n",
      "(dla naukowc\u00f3w)"
     ]
    },
    {
     "cell_type": "markdown",
     "metadata": {
      "slideshow": {
       "slide_type": "slide"
      }
     },
     "source": [
      "## Zakres przedmiotu\n",
      "\n",
      "* (O)Programowanie typowych problemow naukowych w j\u0119zyku python\n",
      "* Praca z medium-scale data (dane mieszcz\u0105ce si\u0119 w pami\u0119ci ram) ~20GB\n",
      "* Programowanie r\u00f3wnoleg\u0142e na CPU \n",
      " * G\u0142\u00f3wnie w przypadkach na kt\u00f3rych paralelizacja jest trywialna\n",
      " * Mo\u017ce zd\u0105\u017cymy wyj\u015b\u0107 poza ten zakres"
     ]
    },
    {
     "cell_type": "markdown",
     "metadata": {
      "slideshow": {
       "slide_type": "slide"
      }
     },
     "source": [
      "## Poza zakresem\n",
      "\n",
      "* Paralelizacja na GPU\n",
      "* Pisanie wydajnych algorytm\u00f3w pracuj\u0105cych r\u00f3wnolegle na jednym zestawie danych \n",
      " * np. r\u00f3wnoleg\u0142e sortowanie, r\u00f3wnoleg\u0142y skan \n",
      "* Ogarnianie terabajtowych zestaw\u00f3w danych (cho\u0107 mo\u017ce troch\u0119\u00a0b\u0119dzie)\n",
      " * Ogarni\u0119cie 1000 zestaw\u00f3w danych po 1GB jest w zakresie :)"
     ]
    },
    {
     "cell_type": "markdown",
     "metadata": {
      "slideshow": {
       "slide_type": "slide"
      }
     },
     "source": [
      "## Uwaga\n",
      "\n",
      "U\u017cywamy pythona **3.X.Y**, gdzie X > 3. \n",
      "\n",
      "Python 2.7 jest w ci\u0105g\u0142ym u\u017cyciu, ale chc\u0119 uczy\u0107 Was aktualnej wersji j\u0119zyka. "
     ]
    },
    {
     "cell_type": "heading",
     "level": 2,
     "metadata": {
      "slideshow": {
       "slide_type": "slide"
      }
     },
     "source": [
      "Ipython notebook"
     ]
    },
    {
     "cell_type": "markdown",
     "metadata": {
      "slideshow": {
       "slide_type": "slide"
      }
     },
     "source": [
      "Do stworzenia tej prezentacji u\u017cywam ``ipython notebook``, interaktywnej konsoli pythona w przegl\u0105darce (b\u0119dzie o niej na trzecich? zaj\u0119ciach). \n",
      "\n",
      "Na razie uwie\u017ccie \u017ce przyk\u0142ady te s\u0105 poprawnym kodem pythona. "
     ]
    },
    {
     "cell_type": "markdown",
     "metadata": {
      "slideshow": {
       "slide_type": "slide"
      }
     },
     "source": [
      "# Wprowadzenie do pythona "
     ]
    },
    {
     "cell_type": "markdown",
     "metadata": {
      "slideshow": {
       "slide_type": "slide"
      }
     },
     "source": [
      "Python (dok\u0142adniej CPython) to j\u0119zyk\n",
      "\n",
      "* Skryptowy\n",
      "* ~~Interpretowany~~\n",
      "* Dynamiczny\n",
      "* Wielo-paradygmatowy\n",
      "* Bardzo wygodny dla programisty\n",
      "\n"
     ]
    },
    {
     "cell_type": "code",
     "collapsed": false,
     "input": [
      "# W Pythonie krzy\u017cyk oznacza kometarz do ko\u0144ca linii\n",
      "# Odpowiednik // z C/C++/Javy\n",
      "# Nie ma wielolinijkowych komentarzy, cho\u0107\u00a0s\u0105\u00a0odpowiedniki"
     ],
     "language": "python",
     "metadata": {
      "slideshow": {
       "slide_type": "slide"
      }
     },
     "outputs": [],
     "prompt_number": 15
    },
    {
     "cell_type": "code",
     "collapsed": false,
     "input": [
      "# W Pythonie zmienne nie maj\u0105\u00a0typ\u00f3w\n",
      "foo = 1  # Definicja zmiennej, zawieraj\u0105ca liczb\u0119\u00a0ca\u0142kowit\u0105\n",
      "print(foo) # funkcja print wy\u015bwietla linijk\u0119 tekstu"
     ],
     "language": "python",
     "metadata": {
      "slideshow": {
       "slide_type": "slide"
      }
     },
     "outputs": [
      {
       "output_type": "stream",
       "stream": "stdout",
       "text": [
        "1\n"
       ]
      }
     ],
     "prompt_number": 16
    },
    {
     "cell_type": "code",
     "collapsed": false,
     "input": [
      "foo = \"foo\" # Definicja ci\u0105gu znak\u00f3w, jak widzicie jedna zmienna \n",
      "# mo\u017ce zmieni\u0107 sw\u00f3j typ w trakcie \u017cycia (jest to nie polecane!)\n",
      "print(foo)"
     ],
     "language": "python",
     "metadata": {
      "slideshow": {
       "slide_type": "fragment"
      }
     },
     "outputs": [
      {
       "output_type": "stream",
       "stream": "stdout",
       "text": [
        "foo\n"
       ]
      }
     ],
     "prompt_number": 1
    },
    {
     "cell_type": "code",
     "collapsed": false,
     "input": [
      "# Warto\u015bci zmiennych natomiast maj\u0105\u00a0typ\n",
      "foo = 1\n",
      "print(type(foo))"
     ],
     "language": "python",
     "metadata": {
      "slideshow": {
       "slide_type": "fragment"
      }
     },
     "outputs": [
      {
       "output_type": "stream",
       "stream": "stdout",
       "text": [
        "<class 'int'>\n"
       ]
      }
     ],
     "prompt_number": 17
    },
    {
     "cell_type": "code",
     "collapsed": false,
     "input": [
      "bar = \"bar\"\n",
      "print(type(bar))"
     ],
     "language": "python",
     "metadata": {
      "slideshow": {
       "slide_type": "fragment"
      }
     },
     "outputs": [
      {
       "output_type": "stream",
       "stream": "stdout",
       "text": [
        "<class 'str'>\n"
       ]
      }
     ],
     "prompt_number": 18
    },
    {
     "cell_type": "code",
     "collapsed": false,
     "input": [
      "baz = foo + bar # Dynamiczny j\u0119zyk nie oznacza \u017ce wszystko si\u0119\u00a0rzutuje samo"
     ],
     "language": "python",
     "metadata": {
      "slideshow": {
       "slide_type": "fragment"
      }
     },
     "outputs": [
      {
       "ename": "TypeError",
       "evalue": "unsupported operand type(s) for +: 'int' and 'str'",
       "output_type": "pyerr",
       "traceback": [
        "\u001b[1;31m---------------------------------------------------------------------------\u001b[0m\n\u001b[1;31mTypeError\u001b[0m                                 Traceback (most recent call last)",
        "\u001b[1;32m<ipython-input-19-96146fb7f6ff>\u001b[0m in \u001b[0;36m<module>\u001b[1;34m()\u001b[0m\n\u001b[1;32m----> 1\u001b[1;33m \u001b[0mbaz\u001b[0m \u001b[1;33m=\u001b[0m \u001b[0mfoo\u001b[0m \u001b[1;33m+\u001b[0m \u001b[0mbar\u001b[0m \u001b[1;31m# Dynamiczny j\u0119zyk nie oznacza \u017ce wszystko si\u0119\u00a0rzutuje samo\u001b[0m\u001b[1;33m\u001b[0m\u001b[0m\n\u001b[0m",
        "\u001b[1;31mTypeError\u001b[0m: unsupported operand type(s) for +: 'int' and 'str'"
       ]
      }
     ],
     "prompt_number": 19
    },
    {
     "cell_type": "heading",
     "level": 2,
     "metadata": {
      "slideshow": {
       "slide_type": "slide"
      }
     },
     "source": [
      "Garbage collector"
     ]
    },
    {
     "cell_type": "markdown",
     "metadata": {
      "slideshow": {
       "slide_type": "fragment"
      }
     },
     "source": [
      "Python posiada narz\u0119dzia automatycznego zarz\u0105dzania pami\u0119ci\u0105, dok\u0142adnieje jest to garbage collector dzia\u0142aj\u0105cy na zasadzie liczenia referencji z opcjonalnym rozbijaniem cykli. \n",
      "\n",
      "Za ka\u017cdym razem jak jaki\u015b\u00a0obiekt przypisywany jest do zmiennej wewn\u0119trzny licznik odn$iesie\u0144\u00a0ro\u015bnie o jeden. Je\u015bli licznik odniesie\u0144\u00a0obiektu spada do zera obiekt jest kasowany. \n",
      "\n",
      "Opcjonalnie Python potrafi kasowa\u0107 cykle obiekt\u00f3w. Je\u015bli `A` ma wska\u017anik do ``B`` a ``B`` do ``A`` to nigdy liczba odniesie\u0144\u00a0\u017cadnego z tych obiekt\u00f3w nie spadnie do zera, i m\u00f3wimy \u017ce ``A`` i ``B`` tworz\u0105 cykl. Python potrafi sobie z takimi sytuacjami radzi\u0107 "
     ]
    },
    {
     "cell_type": "heading",
     "level": 2,
     "metadata": {
      "slideshow": {
       "slide_type": "slide"
      }
     },
     "source": [
      "Garbage collector"
     ]
    },
    {
     "cell_type": "code",
     "collapsed": false,
     "input": [
      "class Foo: \n",
      "    def __del__(self):     # Metoda wywo\u0142ywana podczas kasowania obiektu.\n",
      "        print(\"I'm dying\") # powinna ona s\u0142u\u017cy\u0107\u00a0**tylko** do zwolnienia pami\u0119ci\n",
      "                           # zaalokowanej przez ten obiekt poza metodami \n",
      "                           # allokacji w Pythonie (np. za pomoc\u0105 wywo\u0142ania malloc)"
     ],
     "language": "python",
     "metadata": {
      "slideshow": {
       "slide_type": "fragment"
      }
     },
     "outputs": [],
     "prompt_number": 20
    },
    {
     "cell_type": "code",
     "collapsed": false,
     "input": [
      "foo = Foo()\n",
      "del foo # operator del kasuje zmienn\u0105\u00a0"
     ],
     "language": "python",
     "metadata": {
      "slideshow": {
       "slide_type": "fragment"
      }
     },
     "outputs": [
      {
       "output_type": "stream",
       "stream": "stdout",
       "text": [
        "I'm dying\n"
       ]
      }
     ],
     "prompt_number": 21
    },
    {
     "cell_type": "code",
     "collapsed": false,
     "input": [
      "def test():\n",
      "    foo = Foo() #Zmienna w kolokalnym kontek\u015bcie umrze od razu\n",
      "    \n",
      "test()"
     ],
     "language": "python",
     "metadata": {
      "slideshow": {
       "slide_type": "fragment"
      }
     },
     "outputs": [
      {
       "output_type": "stream",
       "stream": "stdout",
       "text": [
        "I'm dying\n"
       ]
      }
     ],
     "prompt_number": 22
    },
    {
     "cell_type": "code",
     "collapsed": false,
     "input": [
      "foo = bar = Foo()\n",
      "del foo"
     ],
     "language": "python",
     "metadata": {
      "slideshow": {
       "slide_type": "fragment"
      }
     },
     "outputs": [],
     "prompt_number": 23
    },
    {
     "cell_type": "code",
     "collapsed": false,
     "input": [
      "del bar"
     ],
     "language": "python",
     "metadata": {
      "slideshow": {
       "slide_type": "fragment"
      }
     },
     "outputs": [
      {
       "output_type": "stream",
       "stream": "stdout",
       "text": [
        "I'm dying\n"
       ]
      }
     ],
     "prompt_number": 24
    },
    {
     "cell_type": "markdown",
     "metadata": {
      "slideshow": {
       "slide_type": "slide"
      }
     },
     "source": [
      "# Typy danych\n"
     ]
    },
    {
     "cell_type": "markdown",
     "metadata": {
      "slideshow": {
       "slide_type": "slide"
      }
     },
     "source": [
      "## Ci\u0105g znak\u00f3w"
     ]
    },
    {
     "cell_type": "markdown",
     "metadata": {
      "slideshow": {
       "slide_type": "fragment"
      }
     },
     "source": [
      "std::string z C++, String z Javy. Domy\u015blnie zawiera znaki w kodowaniu UTF-8. "
     ]
    },
    {
     "cell_type": "code",
     "collapsed": false,
     "input": [
      "my_str = \"Ci\u0105g znak\u00f3w\" \n",
      "my_str = 'Ciag znak\u00f3w' # Bez znaczenia czy mamy pojedy\u0144czy czy powd\u00f3jny cudzys\u0142\u00f3w! \n",
      "print(my_str)"
     ],
     "language": "python",
     "metadata": {
      "slideshow": {
       "slide_type": "fragment"
      }
     },
     "outputs": [
      {
       "output_type": "stream",
       "stream": "stdout",
       "text": [
        "Ciag znak\u00f3w\n"
       ]
      }
     ],
     "prompt_number": 25
    },
    {
     "cell_type": "code",
     "collapsed": false,
     "input": [
      "my_str = \"Ci\u0105g \\nznak\u00f3w\" # Escapes dzia\u0142aj\u0105\u00a0jak w C/C++/Javie\n",
      "print(my_str)"
     ],
     "language": "python",
     "metadata": {
      "slideshow": {
       "slide_type": "fragment"
      }
     },
     "outputs": [
      {
       "output_type": "stream",
       "stream": "stdout",
       "text": [
        "Ci\u0105g \n",
        "znak\u00f3w\n"
       ]
      }
     ],
     "prompt_number": 26
    },
    {
     "cell_type": "code",
     "collapsed": false,
     "input": [
      "multiline_string = \"\"\"\n",
      "Mo\u017cna stworzy\u0107\u00a0te\u017c\u00a0wieloznakowe ci\u0105gi znak\u00f3w \n",
      "O takie \n",
      "\"\"\"\n",
      "print(multiline_string) #W wieloliniowych ci\u0105gach znak\u00f3w \n",
      "#znaki nowej linii s\u0105\u00a0zachowane"
     ],
     "language": "python",
     "metadata": {
      "slideshow": {
       "slide_type": "fragment"
      }
     },
     "outputs": [
      {
       "output_type": "stream",
       "stream": "stdout",
       "text": [
        "\n",
        "Mo\u017cna stworzy\u0107\u00a0te\u017c\u00a0wieloznakowe ci\u0105gi znak\u00f3w \n",
        "O takie \n",
        "\n"
       ]
      }
     ],
     "prompt_number": 27
    },
    {
     "cell_type": "markdown",
     "metadata": {
      "slideshow": {
       "slide_type": "slide"
      }
     },
     "source": [
      "# Operacje na ci\u0105gach znak\u00f3w"
     ]
    },
    {
     "cell_type": "code",
     "collapsed": false,
     "input": [
      "print(\"foo\" + \"bar\") # Operator + dokonuje konkatenacji znak\u00f3w"
     ],
     "language": "python",
     "metadata": {
      "slideshow": {
       "slide_type": "fragment"
      }
     },
     "outputs": [
      {
       "output_type": "stream",
       "stream": "stdout",
       "text": [
        "foobar\n"
       ]
      }
     ],
     "prompt_number": 28
    },
    {
     "cell_type": "code",
     "collapsed": false,
     "input": [
      "print(\"foobar\"[3]) # Mo\u017cna wybiera\u0107\u00a0znaki z ci\u0105gu znak\u00f3w"
     ],
     "language": "python",
     "metadata": {
      "slideshow": {
       "slide_type": "fragment"
      }
     },
     "outputs": [
      {
       "output_type": "stream",
       "stream": "stdout",
       "text": [
        "b\n"
       ]
      }
     ],
     "prompt_number": 29
    },
    {
     "cell_type": "code",
     "collapsed": false,
     "input": [
      "\"bar\"[2] = \"z\" # Ci\u0105g\u00f3w nie mo\u017cna zmienia\u0107"
     ],
     "language": "python",
     "metadata": {
      "slideshow": {
       "slide_type": "fragment"
      }
     },
     "outputs": [
      {
       "ename": "TypeError",
       "evalue": "'str' object does not support item assignment",
       "output_type": "pyerr",
       "traceback": [
        "\u001b[1;31m---------------------------------------------------------------------------\u001b[0m\n\u001b[1;31mTypeError\u001b[0m                                 Traceback (most recent call last)",
        "\u001b[1;32m<ipython-input-30-3c014a63ceda>\u001b[0m in \u001b[0;36m<module>\u001b[1;34m()\u001b[0m\n\u001b[1;32m----> 1\u001b[1;33m \u001b[1;34m\"bar\"\u001b[0m\u001b[1;33m[\u001b[0m\u001b[1;36m2\u001b[0m\u001b[1;33m]\u001b[0m \u001b[1;33m=\u001b[0m \u001b[1;34m\"z\"\u001b[0m \u001b[1;31m# Ci\u0105g\u00f3w nie mo\u017cna zmienia\u0107\u001b[0m\u001b[1;33m\u001b[0m\u001b[0m\n\u001b[0m",
        "\u001b[1;31mTypeError\u001b[0m: 'str' object does not support item assignment"
       ]
      }
     ],
     "prompt_number": 30
    },
    {
     "cell_type": "code",
     "collapsed": false,
     "input": [
      "\"{} ma {}\".format(\"Ala\", \"kota\") # Formatowanie wiadomo\u015bci"
     ],
     "language": "python",
     "metadata": {
      "slideshow": {
       "slide_type": "fragment"
      }
     },
     "outputs": [
      {
       "metadata": {},
       "output_type": "pyout",
       "prompt_number": 31,
       "text": [
        "'Ala ma kota'"
       ]
      }
     ],
     "prompt_number": 31
    },
    {
     "cell_type": "markdown",
     "metadata": {
      "slideshow": {
       "slide_type": "slide"
      }
     },
     "source": [
      "## Lista"
     ]
    },
    {
     "cell_type": "markdown",
     "metadata": {
      "slideshow": {
       "slide_type": "fragment"
      }
     },
     "source": [
      "Lista to pojemnik przechowuj\u0105cy obiekty dost\u0119pne za pomoc\u0105\u00a0indeksu. Mo\u017cna zmienia\u0107 zawarto\u015b\u0107 tego pojemnika. "
     ]
    },
    {
     "cell_type": "code",
     "collapsed": false,
     "input": [
      "empty_list = [] # lista (pusta)\n",
      "full_lits = [1, 2, 3, 4] # lista (z danymi)\n",
      "heterogenous = [1, 2, 3, \"kotek\"] # Mo\u017ce przechowywa\u0107 dowolne dane\n",
      "print(heterogenous)"
     ],
     "language": "python",
     "metadata": {
      "slideshow": {
       "slide_type": "fragment"
      }
     },
     "outputs": [
      {
       "output_type": "stream",
       "stream": "stdout",
       "text": [
        "[1, 2, 3, 'kotek']\n"
       ]
      }
     ],
     "prompt_number": 32
    },
    {
     "cell_type": "code",
     "collapsed": false,
     "input": [
      "empty_list.append(1)\n",
      "empty_list.extend([2, 3, 4, \"kotek\"])\n",
      "print(len(empty_list))"
     ],
     "language": "python",
     "metadata": {
      "slideshow": {
       "slide_type": "fragment"
      }
     },
     "outputs": [
      {
       "output_type": "stream",
       "stream": "stdout",
       "text": [
        "5\n"
       ]
      }
     ],
     "prompt_number": 33
    },
    {
     "cell_type": "code",
     "collapsed": false,
     "input": [
      "print(empty_list)"
     ],
     "language": "python",
     "metadata": {
      "slideshow": {
       "slide_type": "fragment"
      }
     },
     "outputs": [
      {
       "output_type": "stream",
       "stream": "stdout",
       "text": [
        "[1, 2, 3, 4, 'kotek']\n"
       ]
      }
     ],
     "prompt_number": 34
    },
    {
     "cell_type": "markdown",
     "metadata": {
      "slideshow": {
       "slide_type": "subslide"
      }
     },
     "source": [
      "## Indeksowanie"
     ]
    },
    {
     "cell_type": "code",
     "collapsed": false,
     "input": [
      "my_list = list(range(10)) # list to konstruktor listy, range(N) zwraca **iterable** kt\u00f3ra zwraca liczby od 0 do N-1\n",
      "print(my_list)"
     ],
     "language": "python",
     "metadata": {
      "slideshow": {
       "slide_type": "fragment"
      }
     },
     "outputs": [
      {
       "output_type": "stream",
       "stream": "stdout",
       "text": [
        "[0, 1, 2, 3, 4, 5, 6, 7, 8, 9]\n"
       ]
      }
     ],
     "prompt_number": 35
    },
    {
     "cell_type": "code",
     "collapsed": false,
     "input": [
      "my_list[0]"
     ],
     "language": "python",
     "metadata": {
      "slideshow": {
       "slide_type": "fragment"
      }
     },
     "outputs": [
      {
       "metadata": {},
       "output_type": "pyout",
       "prompt_number": 36,
       "text": [
        "0"
       ]
      }
     ],
     "prompt_number": 36
    },
    {
     "cell_type": "code",
     "collapsed": false,
     "input": [
      "my_list[0] = 10"
     ],
     "language": "python",
     "metadata": {
      "slideshow": {
       "slide_type": "fragment"
      }
     },
     "outputs": [],
     "prompt_number": 37
    },
    {
     "cell_type": "code",
     "collapsed": false,
     "input": [
      "my_list[0]"
     ],
     "language": "python",
     "metadata": {
      "slideshow": {
       "slide_type": "fragment"
      }
     },
     "outputs": [
      {
       "metadata": {},
       "output_type": "pyout",
       "prompt_number": 38,
       "text": [
        "10"
       ]
      }
     ],
     "prompt_number": 38
    },
    {
     "cell_type": "code",
     "collapsed": false,
     "input": [
      "my_list[-1] # W pythonie kontenery listopodobne cz\u0119sto pozwalaj\u0105 \n",
      "# Na indeksy negatywne. Oznacza to element N-ty od ko\u0144ca"
     ],
     "language": "python",
     "metadata": {
      "slideshow": {
       "slide_type": "fragment"
      }
     },
     "outputs": [
      {
       "metadata": {},
       "output_type": "pyout",
       "prompt_number": 39,
       "text": [
        "9"
       ]
      }
     ],
     "prompt_number": 39
    },
    {
     "cell_type": "code",
     "collapsed": false,
     "input": [
      "my_list[-1] == my_list[len(my_list)-1] #inwariant"
     ],
     "language": "python",
     "metadata": {
      "slideshow": {
       "slide_type": "fragment"
      }
     },
     "outputs": [
      {
       "metadata": {},
       "output_type": "pyout",
       "prompt_number": 40,
       "text": [
        "True"
       ]
      }
     ],
     "prompt_number": 40
    },
    {
     "cell_type": "markdown",
     "metadata": {
      "slideshow": {
       "slide_type": "slide"
      }
     },
     "source": [
      "## Usuwanie element\u00f3w z listy"
     ]
    },
    {
     "cell_type": "code",
     "collapsed": false,
     "input": [
      "my_list = [1, 2, 3]\n",
      "del my_list[1] # Usuwamy waarto\u015b\u0107 po indeksie\n",
      "print(my_list)"
     ],
     "language": "python",
     "metadata": {
      "slideshow": {
       "slide_type": "fragment"
      }
     },
     "outputs": [
      {
       "output_type": "stream",
       "stream": "stdout",
       "text": [
        "[1, 3]\n"
       ]
      }
     ],
     "prompt_number": 41
    },
    {
     "cell_type": "code",
     "collapsed": false,
     "input": [
      "my_list = [1, 2, 3, 3, 2, 3]\n",
      "my_list.remove(3) # Usuwamy pierwsze pojawienie si\u0119\u00a0warto\u015bci\n",
      "print(my_list)"
     ],
     "language": "python",
     "metadata": {
      "slideshow": {
       "slide_type": "fragment"
      }
     },
     "outputs": [
      {
       "output_type": "stream",
       "stream": "stdout",
       "text": [
        "[1, 2, 3, 2, 3]\n"
       ]
      }
     ],
     "prompt_number": 42
    },
    {
     "cell_type": "markdown",
     "metadata": {
      "slideshow": {
       "slide_type": "slide"
      }
     },
     "source": [
      "## Indeksowanie II (Slices)"
     ]
    },
    {
     "cell_type": "markdown",
     "metadata": {
      "slideshow": {
       "slide_type": "fragment"
      }
     },
     "source": [
      "Mo\u017cna \u0142atwo tworzy\u0107 wycinki (slices) list. S\u0105 to obiekty zawieraj\u0105ce podzbi\u00f3r danych z danej listy. "
     ]
    },
    {
     "cell_type": "code",
     "collapsed": false,
     "input": [
      "my_list = [1, 2, 3, 4, 5, 6, 7, 8, 9]\n",
      "my_list[0:5] #Od pierwszego do pi\u0105tego elementu"
     ],
     "language": "python",
     "metadata": {
      "slideshow": {
       "slide_type": "fragment"
      }
     },
     "outputs": [
      {
       "metadata": {},
       "output_type": "pyout",
       "prompt_number": 43,
       "text": [
        "[1, 2, 3, 4, 5]"
       ]
      }
     ],
     "prompt_number": 43
    },
    {
     "cell_type": "code",
     "collapsed": false,
     "input": [
      "my_list[5:] #Od pi\u0105tego (wy\u0142\u0105cznie) do ko\u0144ca"
     ],
     "language": "python",
     "metadata": {
      "slideshow": {
       "slide_type": "fragment"
      }
     },
     "outputs": [
      {
       "metadata": {},
       "output_type": "pyout",
       "prompt_number": 44,
       "text": [
        "[6, 7, 8, 9]"
       ]
      }
     ],
     "prompt_number": 44
    },
    {
     "cell_type": "code",
     "collapsed": false,
     "input": [
      "my_list[5:-3] # Od pi\u0105tego do trzeciego od ko\u0144ca"
     ],
     "language": "python",
     "metadata": {
      "slideshow": {
       "slide_type": "fragment"
      }
     },
     "outputs": [
      {
       "metadata": {},
       "output_type": "pyout",
       "prompt_number": 45,
       "text": [
        "[6]"
       ]
      }
     ],
     "prompt_number": 45
    },
    {
     "cell_type": "code",
     "collapsed": false,
     "input": [
      "my_list[0:-1:2] # Od pocz\u0105tku do ko\u0144ca co dwa elementy"
     ],
     "language": "python",
     "metadata": {
      "slideshow": {
       "slide_type": "fragment"
      }
     },
     "outputs": [
      {
       "metadata": {},
       "output_type": "pyout",
       "prompt_number": 46,
       "text": [
        "[1, 3, 5, 7]"
       ]
      }
     ],
     "prompt_number": 46
    },
    {
     "cell_type": "code",
     "collapsed": false,
     "input": [
      "my_list[::-1] # Od ko\u0144ca do pocz\u0105tku w odwrotnej kolejno\u015bci"
     ],
     "language": "python",
     "metadata": {
      "slideshow": {
       "slide_type": "fragment"
      }
     },
     "outputs": [
      {
       "metadata": {},
       "output_type": "pyout",
       "prompt_number": 47,
       "text": [
        "[9, 8, 7, 6, 5, 4, 3, 2, 1]"
       ]
      }
     ],
     "prompt_number": 47
    },
    {
     "cell_type": "markdown",
     "metadata": {
      "slideshow": {
       "slide_type": "slide"
      }
     },
     "source": [
      "## Slices II"
     ]
    },
    {
     "cell_type": "markdown",
     "metadata": {
      "slideshow": {
       "slide_type": "fragment"
      }
     },
     "source": [
      "Z wykorzystaniem wycink\u00f3w mo\u017cna r\u00f3wnie\u017c\u00a0nadpisywa\u0107 jakie\u015b\u00a0fragmenty listy: "
     ]
    },
    {
     "cell_type": "code",
     "collapsed": false,
     "input": [
      "my_list = [1, 2, 3, 4, 5, 6, 7, 8, 9]\n",
      "print(my_list[1:-1])"
     ],
     "language": "python",
     "metadata": {
      "slideshow": {
       "slide_type": "fragment"
      }
     },
     "outputs": [
      {
       "output_type": "stream",
       "stream": "stdout",
       "text": [
        "[2, 3, 4, 5, 6, 7, 8]\n"
       ]
      }
     ],
     "prompt_number": 48
    },
    {
     "cell_type": "code",
     "collapsed": false,
     "input": [
      "my_list[1:-1] = [\"a\", \"b\", \"c\"]\n",
      "print(my_list)"
     ],
     "language": "python",
     "metadata": {
      "slideshow": {
       "slide_type": "fragment"
      }
     },
     "outputs": [
      {
       "output_type": "stream",
       "stream": "stdout",
       "text": [
        "[1, 'a', 'b', 'c', 9]\n"
       ]
      }
     ],
     "prompt_number": 49
    },
    {
     "cell_type": "markdown",
     "metadata": {
      "slideshow": {
       "slide_type": "slide"
      }
     },
     "source": [
      "## Krotka"
     ]
    },
    {
     "cell_type": "markdown",
     "metadata": {
      "slideshow": {
       "slide_type": "fragment"
      }
     },
     "source": [
      "Krotka to pojemnik zawieraj\u0105cy obiekty dost\u0119pne za pomoc\u0105 indeksu. **Zawrto\u015bci krotki nie mo\u017cna zmienia\u0107**"
     ]
    },
    {
     "cell_type": "code",
     "collapsed": false,
     "input": [
      "my_tuple = (1, 3, 4, 5)  #\n",
      "my_tuple_2 = 5, 6 ,7 # Nawiasy mo\u017cna omin\u0105\u0107\n",
      "print(my_tuple_2)"
     ],
     "language": "python",
     "metadata": {
      "slideshow": {
       "slide_type": "fragment"
      }
     },
     "outputs": [
      {
       "output_type": "stream",
       "stream": "stdout",
       "text": [
        "(5, 6, 7)\n"
       ]
      }
     ],
     "prompt_number": 50
    },
    {
     "cell_type": "code",
     "collapsed": false,
     "input": [
      "my_tuple = (1, ) #Jednoelementowe krotki s\u0105 z\u0142o\u015bliwe: trzeba poda\u0107 \n",
      "#\"wisz\u0105cy\" przecinek na ko\u0144cu\n",
      "print(my_tuple)"
     ],
     "language": "python",
     "metadata": {
      "slideshow": {
       "slide_type": "fragment"
      }
     },
     "outputs": [
      {
       "output_type": "stream",
       "stream": "stdout",
       "text": [
        "(1,)\n"
       ]
      }
     ],
     "prompt_number": 51
    },
    {
     "cell_type": "code",
     "collapsed": false,
     "input": [
      "my_tuple_2[0] = 10"
     ],
     "language": "python",
     "metadata": {
      "slideshow": {
       "slide_type": "fragment"
      }
     },
     "outputs": [
      {
       "ename": "TypeError",
       "evalue": "'tuple' object does not support item assignment",
       "output_type": "pyerr",
       "traceback": [
        "\u001b[1;31m---------------------------------------------------------------------------\u001b[0m\n\u001b[1;31mTypeError\u001b[0m                                 Traceback (most recent call last)",
        "\u001b[1;32m<ipython-input-52-65dca6cd3416>\u001b[0m in \u001b[0;36m<module>\u001b[1;34m()\u001b[0m\n\u001b[1;32m----> 1\u001b[1;33m \u001b[0mmy_tuple_2\u001b[0m\u001b[1;33m[\u001b[0m\u001b[1;36m0\u001b[0m\u001b[1;33m]\u001b[0m \u001b[1;33m=\u001b[0m \u001b[1;36m10\u001b[0m\u001b[1;33m\u001b[0m\u001b[0m\n\u001b[0m",
        "\u001b[1;31mTypeError\u001b[0m: 'tuple' object does not support item assignment"
       ]
      }
     ],
     "prompt_number": 52
    },
    {
     "cell_type": "markdown",
     "metadata": {
      "slideshow": {
       "slide_type": "slide"
      }
     },
     "source": [
      "# Krotki tworzone w locie"
     ]
    },
    {
     "cell_type": "code",
     "collapsed": false,
     "input": [
      "a = 10 \n",
      "b = 1\n",
      "print((a, b)) #Tutaj powstaje krotka. "
     ],
     "language": "python",
     "metadata": {
      "slideshow": {
       "slide_type": "fragment"
      }
     },
     "outputs": [
      {
       "output_type": "stream",
       "stream": "stdout",
       "text": [
        "(10, 1)\n"
       ]
      }
     ],
     "prompt_number": 53
    },
    {
     "cell_type": "code",
     "collapsed": false,
     "input": [
      "b, a = a, b # Tutaj powstaj\u0105\u00a0dwie krotki, kt\u00f3re wymieniaj\u0105\u00a0si\u0119 elementami\n",
      "print(a, b)"
     ],
     "language": "python",
     "metadata": {
      "slideshow": {
       "slide_type": "fragment"
      }
     },
     "outputs": [
      {
       "output_type": "stream",
       "stream": "stdout",
       "text": [
        "1 10\n"
       ]
      }
     ],
     "prompt_number": 54
    },
    {
     "cell_type": "code",
     "collapsed": false,
     "input": [
      "opis = (\"P\u0105czu\u015b\", \"kot\", 10, 5)\n",
      "imie, gatunek, wiek_lata, masa_kg = opis # Typowe zastosowanie: \"rozpakowanie\" krotki\n",
      "print(imie)"
     ],
     "language": "python",
     "metadata": {
      "slideshow": {
       "slide_type": "fragment"
      }
     },
     "outputs": [
      {
       "output_type": "stream",
       "stream": "stdout",
       "text": [
        "P\u0105czu\u015b\n"
       ]
      }
     ],
     "prompt_number": 55
    },
    {
     "cell_type": "markdown",
     "metadata": {
      "slideshow": {
       "slide_type": "slide"
      }
     },
     "source": [
      "# Zbi\u00f3r"
     ]
    },
    {
     "cell_type": "markdown",
     "metadata": {
      "slideshow": {
       "slide_type": "fragment"
      }
     },
     "source": [
      "Struktura danych zawieraj\u0105ca N element\u00f3w. Zawiera jedn\u0105\u00a0kopi\u0119 ka\u017cdego elementu. Nie jest uporz\u0105dkowana. "
     ]
    },
    {
     "cell_type": "code",
     "collapsed": false,
     "input": [
      "my_set = {1, 2, 3, 4}\n",
      "5 in my_set # Tak na marginesie in dzia\u0142a te\u017c dla list i krotek! "
     ],
     "language": "python",
     "metadata": {
      "slideshow": {
       "slide_type": "fragment"
      }
     },
     "outputs": [
      {
       "metadata": {},
       "output_type": "pyout",
       "prompt_number": 56,
       "text": [
        "False"
       ]
      }
     ],
     "prompt_number": 56
    },
    {
     "cell_type": "code",
     "collapsed": false,
     "input": [
      "1 in my_set"
     ],
     "language": "python",
     "metadata": {
      "slideshow": {
       "slide_type": "fragment"
      }
     },
     "outputs": [
      {
       "metadata": {},
       "output_type": "pyout",
       "prompt_number": 57,
       "text": [
        "True"
       ]
      }
     ],
     "prompt_number": 57
    },
    {
     "cell_type": "code",
     "collapsed": false,
     "input": [
      "my_list = [1 , 2, 3] # operator in dzia\u0142a dla wszystkich kolekcji! \n",
      "1 in my_list"
     ],
     "language": "python",
     "metadata": {
      "slideshow": {
       "slide_type": "fragment"
      }
     },
     "outputs": [
      {
       "metadata": {},
       "output_type": "pyout",
       "prompt_number": 58,
       "text": [
        "True"
       ]
      }
     ],
     "prompt_number": 58
    },
    {
     "cell_type": "markdown",
     "metadata": {
      "slideshow": {
       "slide_type": "slide"
      }
     },
     "source": [
      "## S\u0142ownik"
     ]
    },
    {
     "cell_type": "markdown",
     "metadata": {
      "slideshow": {
       "slide_type": "fragment"
      }
     },
     "source": [
      "Zawiera odwzorowanie klucz -> warto\u015b\u0107"
     ]
    },
    {
     "cell_type": "code",
     "collapsed": false,
     "input": [
      "zwierze = {\n",
      "    \"imie\": \"P\u0105czu\u015b\", \n",
      "    \"rasa\": \"kot\", \n",
      "    \"masa\": (10, \"kg\"), # Na marginesie: struktury ad-hoc s\u0105 fajne w pythonie! \n",
      "    \"wiek\": (10, \"lat\")\n",
      "}"
     ],
     "language": "python",
     "metadata": {
      "slideshow": {
       "slide_type": "fragment"
      }
     },
     "outputs": [],
     "prompt_number": 59
    },
    {
     "cell_type": "code",
     "collapsed": false,
     "input": [
      "print(zwierze['imie']) # S\u0142owniki ineksujemy kluczami"
     ],
     "language": "python",
     "metadata": {
      "slideshow": {
       "slide_type": "fragment"
      }
     },
     "outputs": [
      {
       "output_type": "stream",
       "stream": "stdout",
       "text": [
        "P\u0105czu\u015b\n"
       ]
      }
     ],
     "prompt_number": 60
    },
    {
     "cell_type": "code",
     "collapsed": false,
     "input": [
      "zwierze[\"kolor oczu\"] = \"czarne jak noc\" # Mo\u017cna dodawa\u0107 elementy po stworzeniu s\u0142ownika\n",
      "zwierze"
     ],
     "language": "python",
     "metadata": {
      "slideshow": {
       "slide_type": "fragment"
      }
     },
     "outputs": [
      {
       "metadata": {},
       "output_type": "pyout",
       "prompt_number": 61,
       "text": [
        "{'kolor oczu': 'czarne jak noc',\n",
        " 'rasa': 'kot',\n",
        " 'masa': (10, 'kg'),\n",
        " 'imie': 'P\u0105czu\u015b',\n",
        " 'wiek': (10, 'lat')}"
       ]
      }
     ],
     "prompt_number": 61
    },
    {
     "cell_type": "heading",
     "level": 1,
     "metadata": {
      "slideshow": {
       "slide_type": "slide"
      }
     },
     "source": [
      "Klucze w s\u0142owniku"
     ]
    },
    {
     "cell_type": "code",
     "collapsed": false,
     "input": [
      "klucz = 'foo'\n",
      "example = { # Kluczami s\u0142ownika mog\u0105 by\u0107 dowolne obiekty nie mog\u0105ce\n",
      " 1.5: \"kotek\",  # zmienia\u0107\u00a0warto\u015bci\n",
      " 3: \"pi\u0119c\",\n",
      " klucz: \"Tak te\u017c dzia\u0142a\", \n",
      " (1, 2, 3): (4, 5, 6)\n",
      "}\n",
      "print(example)"
     ],
     "language": "python",
     "metadata": {
      "slideshow": {
       "slide_type": "fragment"
      }
     },
     "outputs": [
      {
       "output_type": "stream",
       "stream": "stdout",
       "text": [
        "{1.5: 'kotek', (1, 2, 3): (4, 5, 6), 3: 'pi\u0119c', 'foo': 'Tak te\u017c dzia\u0142a'}\n"
       ]
      }
     ],
     "prompt_number": 62
    },
    {
     "cell_type": "code",
     "collapsed": false,
     "input": [
      "example[[1, 2, 3]] = 8 # Tablice s\u0105\u00a0zmienne i nie mog\u0105\u00a0by\u0107\u00a0kluczem"
     ],
     "language": "python",
     "metadata": {
      "slideshow": {
       "slide_type": "fragment"
      }
     },
     "outputs": [
      {
       "ename": "TypeError",
       "evalue": "unhashable type: 'list'",
       "output_type": "pyerr",
       "traceback": [
        "\u001b[1;31m---------------------------------------------------------------------------\u001b[0m\n\u001b[1;31mTypeError\u001b[0m                                 Traceback (most recent call last)",
        "\u001b[1;32m<ipython-input-63-0bd8918e5c6a>\u001b[0m in \u001b[0;36m<module>\u001b[1;34m()\u001b[0m\n\u001b[1;32m----> 1\u001b[1;33m \u001b[0mexample\u001b[0m\u001b[1;33m[\u001b[0m\u001b[1;33m[\u001b[0m\u001b[1;36m1\u001b[0m\u001b[1;33m,\u001b[0m \u001b[1;36m2\u001b[0m\u001b[1;33m,\u001b[0m \u001b[1;36m3\u001b[0m\u001b[1;33m]\u001b[0m\u001b[1;33m]\u001b[0m \u001b[1;33m=\u001b[0m \u001b[1;36m8\u001b[0m \u001b[1;31m# Tablice s\u0105\u00a0zmienne i nie mog\u0105\u00a0by\u0107\u00a0kluczem\u001b[0m\u001b[1;33m\u001b[0m\u001b[0m\n\u001b[0m",
        "\u001b[1;31mTypeError\u001b[0m: unhashable type: 'list'"
       ]
      }
     ],
     "prompt_number": 63
    },
    {
     "cell_type": "markdown",
     "metadata": {
      "slideshow": {
       "slide_type": "slide"
      }
     },
     "source": [
      "## Bloki kodu "
     ]
    },
    {
     "cell_type": "markdown",
     "metadata": {
      "slideshow": {
       "slide_type": "fragment"
      }
     },
     "source": [
      "W Pythonie bloki kody oznaczane s\u0105 wci\u0119ciami"
     ]
    },
    {
     "cell_type": "code",
     "collapsed": false,
     "input": [
      "for ii in range(3): # Drukropek\n",
      "   print(ii) # Ta instrukcja wykonuje si\u0119\u00a0w p\u0119tli\n",
      "   print(\";\") # Ta te\u017c\n",
      "\n",
      "print(\"END\") # A ta nie"
     ],
     "language": "python",
     "metadata": {
      "slideshow": {
       "slide_type": "fragment"
      }
     },
     "outputs": [
      {
       "output_type": "stream",
       "stream": "stdout",
       "text": [
        "0\n",
        ";\n",
        "1\n",
        ";\n",
        "2\n",
        ";\n",
        "END\n"
       ]
      }
     ],
     "prompt_number": 64
    },
    {
     "cell_type": "markdown",
     "metadata": {
      "slideshow": {
       "slide_type": "fragment"
      }
     },
     "source": [
      "## Bloki kodu "
     ]
    },
    {
     "cell_type": "markdown",
     "metadata": {
      "slideshow": {
       "slide_type": "fragment"
      }
     },
     "source": [
      "D\u0142ugo\u015b\u0107 wci\u0119cia nie ma znaczenia --- musi by\u0107\u00a0ono jednak takie samo dla ka\u017cdej instrukcji"
     ]
    },
    {
     "cell_type": "code",
     "collapsed": false,
     "input": [
      "for foo in range(2): \n",
      " for bar in range(2): \n",
      "  print(foo, bar)"
     ],
     "language": "python",
     "metadata": {
      "slideshow": {
       "slide_type": "fragment"
      }
     },
     "outputs": [
      {
       "output_type": "stream",
       "stream": "stdout",
       "text": [
        "0 0\n",
        "0 1\n",
        "1 0\n",
        "1 1\n"
       ]
      }
     ],
     "prompt_number": 65
    },
    {
     "cell_type": "heading",
     "level": 2,
     "metadata": {
      "slideshow": {
       "slide_type": "slide"
      }
     },
     "source": [
      "Bloki kodu (przyk\u0142ad niepoprawny)"
     ]
    },
    {
     "cell_type": "code",
     "collapsed": false,
     "input": [
      "for foo in range(2): \n",
      "  print(foo)\n",
      " for bar in range(3): # IndentationError \n",
      "  print(bar)"
     ],
     "language": "python",
     "metadata": {
      "slideshow": {
       "slide_type": "fragment"
      }
     },
     "outputs": [
      {
       "ename": "IndentationError",
       "evalue": "unindent does not match any outer indentation level (<ipython-input-66-633ca24cd76b>, line 3)",
       "output_type": "pyerr",
       "traceback": [
        "\u001b[1;36m  File \u001b[1;32m\"<ipython-input-66-633ca24cd76b>\"\u001b[1;36m, line \u001b[1;32m3\u001b[0m\n\u001b[1;33m    for bar in range(3): # IndentationError\u001b[0m\n\u001b[1;37m                                            ^\u001b[0m\n\u001b[1;31mIndentationError\u001b[0m\u001b[1;31m:\u001b[0m unindent does not match any outer indentation level\n"
       ]
      }
     ],
     "prompt_number": 66
    },
    {
     "cell_type": "heading",
     "level": 2,
     "metadata": {
      "slideshow": {
       "slide_type": "slide"
      }
     },
     "source": [
      "Istnienie zmiennej"
     ]
    },
    {
     "cell_type": "code",
     "collapsed": false,
     "input": [
      "if 'foo' in globals():\n",
      "    del foo #Kasuje zmienn\u0105\u00a0"
     ],
     "language": "python",
     "metadata": {
      "slideshow": {
       "slide_type": "fragment"
      }
     },
     "outputs": [],
     "prompt_number": 67
    },
    {
     "cell_type": "code",
     "collapsed": false,
     "input": [
      "print(\"Zmienna foo istnieje jako globalna 0 {}\".format('foo' in globals()))\n",
      "if True: \n",
      "    print(\"Zmienna foo istnieje jako globalna 1 {}\".format('foo' in globals()))\n",
      "    foo = 5\n",
      "    print(\"Zmienna foo istnieje jako globalna 2 {}\".format('foo' in globals()))\n",
      "print(\"Zmienna foo istnieje jako globalna 3 {}\".format('foo' in globals()))    "
     ],
     "language": "python",
     "metadata": {
      "slideshow": {
       "slide_type": "fragment"
      }
     },
     "outputs": [
      {
       "output_type": "stream",
       "stream": "stdout",
       "text": [
        "Zmienna foo istnieje jako globalna 0 False\n",
        "Zmienna foo istnieje jako globalna 1 False\n",
        "Zmienna foo istnieje jako globalna 2 True\n",
        "Zmienna foo istnieje jako globalna 3 True\n"
       ]
      }
     ],
     "prompt_number": 68
    },
    {
     "cell_type": "markdown",
     "metadata": {
      "slideshow": {
       "slide_type": "fragment"
      }
     },
     "source": [
      "**DETAL**: Z pozosta\u0142ymi konstrukcjami (``if``, ``for``, ``while``, ``try-catch``) jest podobnie: zmienne w nich zdefiniowane wychodz\u0105 trwaj\u0105\u00a0nawet po zako\u0144czeniu danego bloku. Wyj\u0105tkiem jest ``catch`` -- z\u0142apany wyj\u0105tek umiera "
     ]
    },
    {
     "cell_type": "markdown",
     "metadata": {
      "slideshow": {
       "slide_type": "slide"
      }
     },
     "source": [
      "# Iterowanie "
     ]
    },
    {
     "cell_type": "code",
     "collapsed": false,
     "input": [
      "my_list = [1, 2, 4, \"kotek\"]\n",
      "\n",
      "for element in my_list: #Domy\u015blnie p\u0119tla for dzia\u0142a jak for-each\n",
      "    print(element) # Cia\u0142o wykonuje si\u0119\u00a0raz dla ka\u017cdego elementu listy. \n",
      "    # Potem powiem po czym poznajemy w pythonie blok kodu! "
     ],
     "language": "python",
     "metadata": {
      "slideshow": {
       "slide_type": "fragment"
      }
     },
     "outputs": [
      {
       "output_type": "stream",
       "stream": "stdout",
       "text": [
        "1\n",
        "2\n",
        "4\n",
        "kotek\n"
       ]
      }
     ],
     "prompt_number": 69
    },
    {
     "cell_type": "code",
     "collapsed": false,
     "input": [
      "for ii, element in enumerate(my_list): # Mo\u017cemy te\u017c iterowa\u0107 po elementach znaj\u0105c ich indeksy\n",
      "    print(ii, element) #Slu\u017cy do tego funkcja enumerate "
     ],
     "language": "python",
     "metadata": {
      "slideshow": {
       "slide_type": "fragment"
      }
     },
     "outputs": [
      {
       "output_type": "stream",
       "stream": "stdout",
       "text": [
        "0 1\n",
        "1 2\n",
        "2 4\n",
        "3 kotek\n"
       ]
      }
     ],
     "prompt_number": 70
    },
    {
     "cell_type": "code",
     "collapsed": false,
     "input": [
      "second_list = [9, 1, 3] #Mo\u017cna te\u017c\u00a0iterowa\u0107 po dw\u00f3ch listach na raz \n",
      "for a, b in zip(my_list, second_list): # S\u0142u\u017cy do tego funkcja zip\n",
      "    print(a, b)"
     ],
     "language": "python",
     "metadata": {
      "slideshow": {
       "slide_type": "fragment"
      }
     },
     "outputs": [
      {
       "output_type": "stream",
       "stream": "stdout",
       "text": [
        "1 9\n",
        "2 1\n",
        "4 3\n"
       ]
      }
     ],
     "prompt_number": 71
    },
    {
     "cell_type": "heading",
     "level": 1,
     "metadata": {
      "slideshow": {
       "slide_type": "slide"
      }
     },
     "source": [
      "Obiekt ``range``"
     ]
    },
    {
     "cell_type": "markdown",
     "metadata": {
      "slideshow": {
       "slide_type": "fragment"
      }
     },
     "source": [
      "``range`` jest funkcj\u0105 zwracaj\u0105c\u0105 ``generator``, dok\u0142adniej jest to obiekt po kt\u00f3rym mo\u017cna przeiterowa\u0107 raz. "
     ]
    },
    {
     "cell_type": "code",
     "collapsed": false,
     "input": [
      "range(5)"
     ],
     "language": "python",
     "metadata": {
      "slideshow": {
       "slide_type": "fragment"
      }
     },
     "outputs": [
      {
       "metadata": {},
       "output_type": "pyout",
       "prompt_number": 72,
       "text": [
        "range(0, 5)"
       ]
      }
     ],
     "prompt_number": 72
    },
    {
     "cell_type": "code",
     "collapsed": false,
     "input": [
      "range(1000000000000000000000000000000000) # Range nie przechowuje swoich element\u00f3w w pami\u0119ci"
     ],
     "language": "python",
     "metadata": {
      "slideshow": {
       "slide_type": "fragment"
      }
     },
     "outputs": [
      {
       "metadata": {},
       "output_type": "pyout",
       "prompt_number": 73,
       "text": [
        "range(0, 1000000000000000000000000000000000)"
       ]
      }
     ],
     "prompt_number": 73
    },
    {
     "cell_type": "code",
     "collapsed": false,
     "input": [
      "list(range(5)) #\u017beby wy\u015bwietli\u0107\u00a0\"zawarto\u015b\u0107\"\u00a0range mo\u017cna stworzy\u0107\u00a0z niej list\u0119 "
     ],
     "language": "python",
     "metadata": {
      "slideshow": {
       "slide_type": "fragment"
      }
     },
     "outputs": [
      {
       "metadata": {},
       "output_type": "pyout",
       "prompt_number": 74,
       "text": [
        "[0, 1, 2, 3, 4]"
       ]
      }
     ],
     "prompt_number": 74
    },
    {
     "cell_type": "heading",
     "level": 1,
     "metadata": {
      "slideshow": {
       "slide_type": "slide"
      }
     },
     "source": [
      "Obiekt range"
     ]
    },
    {
     "cell_type": "code",
     "collapsed": false,
     "input": [
      "list(range(5, 10))"
     ],
     "language": "python",
     "metadata": {
      "slideshow": {
       "slide_type": "fragment"
      }
     },
     "outputs": [
      {
       "metadata": {},
       "output_type": "pyout",
       "prompt_number": 75,
       "text": [
        "[5, 6, 7, 8, 9]"
       ]
      }
     ],
     "prompt_number": 75
    },
    {
     "cell_type": "code",
     "collapsed": false,
     "input": [
      "list(range(10, 5, -1))"
     ],
     "language": "python",
     "metadata": {
      "slideshow": {
       "slide_type": "fragment"
      }
     },
     "outputs": [
      {
       "metadata": {},
       "output_type": "pyout",
       "prompt_number": 76,
       "text": [
        "[10, 9, 8, 7, 6]"
       ]
      }
     ],
     "prompt_number": 76
    },
    {
     "cell_type": "code",
     "collapsed": false,
     "input": [
      "range(1, 10, 0.1) # Na trzechich? zaj\u0119ciach poka\u017c\u0119\u00a0jak \u0142atwo robi\u0107 obiekty tego typu"
     ],
     "language": "python",
     "metadata": {
      "slideshow": {
       "slide_type": "fragment"
      }
     },
     "outputs": [
      {
       "ename": "TypeError",
       "evalue": "'float' object cannot be interpreted as an integer",
       "output_type": "pyerr",
       "traceback": [
        "\u001b[1;31m---------------------------------------------------------------------------\u001b[0m\n\u001b[1;31mTypeError\u001b[0m                                 Traceback (most recent call last)",
        "\u001b[1;32m<ipython-input-77-ebd261ba7878>\u001b[0m in \u001b[0;36m<module>\u001b[1;34m()\u001b[0m\n\u001b[1;32m----> 1\u001b[1;33m \u001b[0mrange\u001b[0m\u001b[1;33m(\u001b[0m\u001b[1;36m1\u001b[0m\u001b[1;33m,\u001b[0m \u001b[1;36m10\u001b[0m\u001b[1;33m,\u001b[0m \u001b[1;36m0.1\u001b[0m\u001b[1;33m)\u001b[0m \u001b[1;31m# Na trzechich? zaj\u0119ciach poka\u017c\u0119\u00a0jak \u0142atwo robi\u0107 obiekty tego typu\u001b[0m\u001b[1;33m\u001b[0m\u001b[0m\n\u001b[0m",
        "\u001b[1;31mTypeError\u001b[0m: 'float' object cannot be interpreted as an integer"
       ]
      }
     ],
     "prompt_number": 77
    },
    {
     "cell_type": "markdown",
     "metadata": {
      "slideshow": {
       "slide_type": "slide"
      }
     },
     "source": [
      "## Iterowanie (s\u0142owniki)"
     ]
    },
    {
     "cell_type": "code",
     "collapsed": false,
     "input": [
      "zwierze = {\n",
      "    \"imie\": \"P\u0105czu\u015b\", \n",
      "    \"rasa\": \"kot\", \n",
      "    \"masa\": (10, \"kg\"),\n",
      "    \"wiek\": (10, \"lat\")\n",
      "}"
     ],
     "language": "python",
     "metadata": {
      "slideshow": {
       "slide_type": "fragment"
      }
     },
     "outputs": [],
     "prompt_number": 78
    },
    {
     "cell_type": "code",
     "collapsed": false,
     "input": [
      "for key in zwierze: # Domy\u015blnie iterujemy po kluczach\n",
      "    print(key)"
     ],
     "language": "python",
     "metadata": {
      "slideshow": {
       "slide_type": "fragment"
      }
     },
     "outputs": [
      {
       "output_type": "stream",
       "stream": "stdout",
       "text": [
        "rasa\n",
        "masa\n",
        "imie\n",
        "wiek\n"
       ]
      }
     ],
     "prompt_number": 79
    },
    {
     "cell_type": "code",
     "collapsed": false,
     "input": [
      "for key, value in zwierze.items(): #\u0141adny przyk\u0142ad rozpakowania krotki\n",
      "    print(\"{}: {}\".format(key,  value)) "
     ],
     "language": "python",
     "metadata": {
      "slideshow": {
       "slide_type": "fragment"
      }
     },
     "outputs": [
      {
       "output_type": "stream",
       "stream": "stdout",
       "text": [
        "rasa: kot\n",
        "masa: (10, 'kg')\n",
        "imie: P\u0105czu\u015b\n",
        "wiek: (10, 'lat')\n"
       ]
      }
     ],
     "prompt_number": 80
    },
    {
     "cell_type": "markdown",
     "metadata": {
      "slideshow": {
       "slide_type": "fragment"
      }
     },
     "source": [
      "Z przyczyn bezpiecze\u0144stwa (o dok\u0142adne przyczyny prosz\u0119 pyta\u0107 na konsultacjach) kolejno\u015b\u0107 iterowania po s\u0142ownikach (i zbiorach) zmienia si\u0119 pomi\u0119dzy r\u00f3\u017cnymi instancjami interpretera, "
     ]
    },
    {
     "cell_type": "heading",
     "level": 2,
     "metadata": {
      "slideshow": {
       "slide_type": "slide"
      }
     },
     "source": [
      "Iterowanie (zbiory)"
     ]
    },
    {
     "cell_type": "code",
     "collapsed": false,
     "input": [
      "for x in {'a', 'b', 'c', 'd'}: \n",
      "    print(x) # Kolejno\u015b\u0107 przypadkowa"
     ],
     "language": "python",
     "metadata": {
      "slideshow": {
       "slide_type": "fragment"
      }
     },
     "outputs": [
      {
       "output_type": "stream",
       "stream": "stdout",
       "text": [
        "b\n",
        "c\n",
        "d\n",
        "a\n"
       ]
      }
     ],
     "prompt_number": 81
    },
    {
     "cell_type": "markdown",
     "metadata": {
      "slideshow": {
       "slide_type": "slide"
      }
     },
     "source": [
      "## Instrukcje warunkowe"
     ]
    },
    {
     "cell_type": "code",
     "collapsed": false,
     "input": [
      "if 1 == 1: \n",
      "    print(\"Dzia\u0142a\")"
     ],
     "language": "python",
     "metadata": {
      "slideshow": {
       "slide_type": "fragment"
      }
     },
     "outputs": [
      {
       "output_type": "stream",
       "stream": "stdout",
       "text": [
        "Dzia\u0142a\n"
       ]
      }
     ],
     "prompt_number": 82
    },
    {
     "cell_type": "code",
     "collapsed": false,
     "input": [
      "if 1 == 2: \n",
      "    print(\"Oops\")\n",
      "else: \n",
      "    print(\"Dzia\u0142a\")"
     ],
     "language": "python",
     "metadata": {
      "slideshow": {
       "slide_type": "fragment"
      }
     },
     "outputs": [
      {
       "output_type": "stream",
       "stream": "stdout",
       "text": [
        "Dzia\u0142a\n"
       ]
      }
     ],
     "prompt_number": 83
    },
    {
     "cell_type": "markdown",
     "metadata": {
      "slideshow": {
       "slide_type": "fragment"
      }
     },
     "source": [
      "Dwie wbudowane sta\u0142e (nie s\u0105\u00a0to s\u0142owa kluczowe) `True` oraz `False` pozwalaj\u0105\u00a0\n",
      "u\u017cy\u0107 zmiennych logicznych explicite. "
     ]
    },
    {
     "cell_type": "code",
     "collapsed": false,
     "input": [
      "if True: \n",
      "    pass"
     ],
     "language": "python",
     "metadata": {
      "slideshow": {
       "slide_type": "fragment"
      }
     },
     "outputs": [],
     "prompt_number": 84
    },
    {
     "cell_type": "heading",
     "level": 2,
     "metadata": {
      "slideshow": {
       "slide_type": "slide"
      }
     },
     "source": [
      "Wyra\u017cenia logiczne"
     ]
    },
    {
     "cell_type": "code",
     "collapsed": false,
     "input": [
      "True or False"
     ],
     "language": "python",
     "metadata": {
      "slideshow": {
       "slide_type": "fragment"
      }
     },
     "outputs": [
      {
       "metadata": {},
       "output_type": "pyout",
       "prompt_number": 85,
       "text": [
        "True"
       ]
      }
     ],
     "prompt_number": 85
    },
    {
     "cell_type": "code",
     "collapsed": false,
     "input": [
      "True and False"
     ],
     "language": "python",
     "metadata": {
      "slideshow": {
       "slide_type": "fragment"
      }
     },
     "outputs": [
      {
       "metadata": {},
       "output_type": "pyout",
       "prompt_number": 86,
       "text": [
        "False"
       ]
      }
     ],
     "prompt_number": 86
    },
    {
     "cell_type": "code",
     "collapsed": false,
     "input": [
      "True and not False"
     ],
     "language": "python",
     "metadata": {
      "slideshow": {
       "slide_type": "fragment"
      }
     },
     "outputs": [
      {
       "metadata": {},
       "output_type": "pyout",
       "prompt_number": 87,
       "text": [
        "True"
       ]
      }
     ],
     "prompt_number": 87
    },
    {
     "cell_type": "code",
     "collapsed": false,
     "input": [
      "'foo' in ['foo', 'bar']"
     ],
     "language": "python",
     "metadata": {
      "slideshow": {
       "slide_type": "fragment"
      }
     },
     "outputs": [
      {
       "metadata": {},
       "output_type": "pyout",
       "prompt_number": 88,
       "text": [
        "True"
       ]
      }
     ],
     "prompt_number": 88
    },
    {
     "cell_type": "code",
     "collapsed": false,
     "input": [
      "'foo' not in ['foo', 'bar']"
     ],
     "language": "python",
     "metadata": {
      "slideshow": {
       "slide_type": "fragment"
      }
     },
     "outputs": [
      {
       "metadata": {},
       "output_type": "pyout",
       "prompt_number": 89,
       "text": [
        "False"
       ]
      }
     ],
     "prompt_number": 89
    },
    {
     "cell_type": "markdown",
     "metadata": {
      "slideshow": {
       "slide_type": "slide"
      }
     },
     "source": [
      "## Matematyka"
     ]
    },
    {
     "cell_type": "code",
     "collapsed": false,
     "input": [
      "print(1 + 2 +3 )"
     ],
     "language": "python",
     "metadata": {
      "slideshow": {
       "slide_type": "fragment"
      }
     },
     "outputs": [
      {
       "output_type": "stream",
       "stream": "stdout",
       "text": [
        "6\n"
       ]
      }
     ],
     "prompt_number": 90
    },
    {
     "cell_type": "code",
     "collapsed": false,
     "input": [
      "import math # Math to modu\u0142 pythona, nale\u017cy go zaimportowa\u0107. \n",
      "print(math.sin(math.pi))"
     ],
     "language": "python",
     "metadata": {
      "slideshow": {
       "slide_type": "fragment"
      }
     },
     "outputs": [
      {
       "output_type": "stream",
       "stream": "stdout",
       "text": [
        "1.2246467991473532e-16\n"
       ]
      }
     ],
     "prompt_number": 91
    },
    {
     "cell_type": "code",
     "collapsed": false,
     "input": [
      "print(1 / 2 ) # Domy\u015blnie dzielenie int\u00f3w zwraca floata"
     ],
     "language": "python",
     "metadata": {
      "slideshow": {
       "slide_type": "fragment"
      }
     },
     "outputs": [
      {
       "output_type": "stream",
       "stream": "stdout",
       "text": [
        "0.5\n"
       ]
      }
     ],
     "prompt_number": 92
    },
    {
     "cell_type": "code",
     "collapsed": false,
     "input": [
      "print(1 // 2) # Teraz dzielenie znane z C++"
     ],
     "language": "python",
     "metadata": {
      "slideshow": {
       "slide_type": "fragment"
      }
     },
     "outputs": [
      {
       "output_type": "stream",
       "stream": "stdout",
       "text": [
        "0\n"
       ]
      }
     ],
     "prompt_number": 93
    },
    {
     "cell_type": "code",
     "collapsed": false,
     "input": [
      "2**1024 #Zmienne sta\u0142oprzecinkowe maj\u0105 domy\u015blnie nieograniczony rozmiar! "
     ],
     "language": "python",
     "metadata": {
      "slideshow": {
       "slide_type": "fragment"
      }
     },
     "outputs": [
      {
       "metadata": {},
       "output_type": "pyout",
       "prompt_number": 94,
       "text": [
        "179769313486231590772930519078902473361797697894230657273430081157732675805500963132708477322407536021120113879871393357658789768814416622492847430639474124377767893424865485276302219601246094119453082952085005768838150682342462881473913110540827237163350510684586298239947245938479716304835356329624224137216"
       ]
      }
     ],
     "prompt_number": 94
    },
    {
     "cell_type": "markdown",
     "metadata": {
      "slideshow": {
       "slide_type": "slide"
      }
     },
     "source": [
      "## Uruchamianie"
     ]
    },
    {
     "cell_type": "markdown",
     "metadata": {
      "slideshow": {
       "slide_type": "fragment"
      }
     },
     "source": [
      "\n",
      "python nazwa_pliku.py\n"
     ]
    },
    {
     "cell_type": "markdown",
     "metadata": {
      "slideshow": {
       "slide_type": "fragment"
      }
     },
     "source": [
      "Na zaj\u0119ciach numer 1 i  2 prosz\u0119 korzysta\u0107 z interpretera w ``/opt/python3.4/bin/python``. "
     ]
    },
    {
     "cell_type": "code",
     "collapsed": false,
     "input": [
      "%%bash  \n",
      "# Z Ipythona mo\u017cna wykonywa\u0107 te\u017c skrypty Basha\n",
      "cd /tmp/\n",
      "echo 'print(\"Hello World\")' > hello.py\n",
      "python hello.py"
     ],
     "language": "python",
     "metadata": {
      "slideshow": {
       "slide_type": "fragment"
      }
     },
     "outputs": [
      {
       "output_type": "stream",
       "stream": "stdout",
       "text": [
        "Hello World\n"
       ]
      }
     ],
     "prompt_number": 95
    },
    {
     "cell_type": "code",
     "collapsed": false,
     "input": [
      "%%bash\n",
      "cd /tmp\n",
      "echo '#!/usr/bin/env python' > hello2.py\n",
      "echo 'print(\"Hello World\")' >> hello2.py\n",
      "chmod +x hello2.py\n",
      "./hello2.py"
     ],
     "language": "python",
     "metadata": {
      "slideshow": {
       "slide_type": "fragment"
      }
     },
     "outputs": [
      {
       "output_type": "stream",
       "stream": "stdout",
       "text": [
        "Hello World\n"
       ]
      }
     ],
     "prompt_number": 96
    },
    {
     "cell_type": "code",
     "collapsed": false,
     "input": [
      "%%bash \n",
      "cd /tmp\n",
      "cat hello2.py"
     ],
     "language": "python",
     "metadata": {
      "slideshow": {
       "slide_type": "fragment"
      }
     },
     "outputs": [
      {
       "output_type": "stream",
       "stream": "stdout",
       "text": [
        "#!/usr/bin/env python\n",
        "print(\"Hello World\")\n"
       ]
      }
     ],
     "prompt_number": 97
    },
    {
     "cell_type": "markdown",
     "metadata": {
      "slideshow": {
       "slide_type": "slide"
      }
     },
     "source": [
      "Mo\u017cna te\u017c kr\u00f3cej: "
     ]
    },
    {
     "cell_type": "code",
     "collapsed": false,
     "input": [
      "%%bash \n",
      "\n",
      "python -c 'print(\"Hello World\")'"
     ],
     "language": "python",
     "metadata": {
      "slideshow": {
       "slide_type": "fragment"
      }
     },
     "outputs": [
      {
       "output_type": "stream",
       "stream": "stdout",
       "text": [
        "Hello World\n"
       ]
      }
     ],
     "prompt_number": 98
    }
   ],
   "metadata": {}
  }
 ]
}