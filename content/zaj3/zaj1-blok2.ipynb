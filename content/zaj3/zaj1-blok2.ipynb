{
 "metadata": {
  "celltoolbar": "Slideshow",
  "name": "",
  "signature": "sha256:db44db8bc71643809d75dff42caa27a6e57e0e0734edfe0714e20b3d57752b8d"
 },
 "nbformat": 3,
 "nbformat_minor": 0,
 "worksheets": [
  {
   "cells": [
    {
     "cell_type": "markdown",
     "metadata": {
      "slideshow": {
       "slide_type": "slide"
      }
     },
     "source": [
      "# Wprowadzenie do Pythona \n",
      "(dla naukowc\u00f3w)"
     ]
    },
    {
     "cell_type": "markdown",
     "metadata": {
      "slideshow": {
       "slide_type": "slide"
      }
     },
     "source": [
      "# Funkcje"
     ]
    },
    {
     "cell_type": "markdown",
     "metadata": {
      "slideshow": {
       "slide_type": "fragment"
      }
     },
     "source": [
      "Do tworzenia funkcji s\u0142u\u017cy s\u0142owo kluczowe ``def``"
     ]
    },
    {
     "cell_type": "code",
     "collapsed": false,
     "input": [
      "\n",
      "def pole_trojkata(a, h): # Argumenty funkcji \n",
      "    \"\"\" \n",
      "    Pole tr\u00f3jk\u0105ta o podstawie a i wysoko\u015bci h\n",
      "    \"\"\" # To jest normalna sta\u0142a znakowa.\n",
      "    # Pierwsza sta\u0142a znakowa w funkcji, klasie czy module nazwana \n",
      "    # jest docstringiem i jest dost\u0119pna podczas wykonania programu \n",
      "    return 0.5 * a * h\n",
      "    "
     ],
     "language": "python",
     "metadata": {
      "slideshow": {
       "slide_type": "fragment"
      }
     },
     "outputs": [],
     "prompt_number": 1
    },
    {
     "cell_type": "code",
     "collapsed": false,
     "input": [
      "pole_trojkata(10, 10)"
     ],
     "language": "python",
     "metadata": {
      "slideshow": {
       "slide_type": "fragment"
      }
     },
     "outputs": [
      {
       "metadata": {},
       "output_type": "pyout",
       "prompt_number": 2,
       "text": [
        "50.0"
       ]
      }
     ],
     "prompt_number": 2
    },
    {
     "cell_type": "code",
     "collapsed": false,
     "input": [
      "pole_trojkata.__doc__.strip()"
     ],
     "language": "python",
     "metadata": {
      "slideshow": {
       "slide_type": "fragment"
      }
     },
     "outputs": [
      {
       "metadata": {},
       "output_type": "pyout",
       "prompt_number": 3,
       "text": [
        "'Pole tr\u00f3jk\u0105ta o podstawie a i wysoko\u015bci h'"
       ]
      }
     ],
     "prompt_number": 3
    },
    {
     "cell_type": "markdown",
     "metadata": {
      "slideshow": {
       "slide_type": "subslide"
      }
     },
     "source": [
      "# Obs\u0142uga styuacji wyj\u0105tkowych"
     ]
    },
    {
     "cell_type": "markdown",
     "metadata": {
      "slideshow": {
       "slide_type": "slide"
      }
     },
     "source": [
      "Do obs\u0142ugi sytuacji wyj\u0105tkowych s\u0142u\u017c\u0105\u00a0s\u0142owa: ``try``, ``catch`` ``raise``."
     ]
    },
    {
     "cell_type": "code",
     "collapsed": false,
     "input": [
      "import math\n",
      "def rownanie_kwadratowe(a, b, c): \n",
      "    d = b**2 - 4*a*c\n",
      "    if d < 0: \n",
      "        raise ValueError(\"R\u00f3wnanie nie ma rozwi\u0105za\u0144\u00a0rzeczywistych\")\n",
      "    if d == 0: \n",
      "        return (-b/(2*a), None)\n",
      "    delta = math.sqrt(d)\n",
      "    return (-b+delta)/(2*a), (-b-delta)/(2*a)"
     ],
     "language": "python",
     "metadata": {
      "slideshow": {
       "slide_type": "fragment"
      }
     },
     "outputs": [],
     "prompt_number": 4
    },
    {
     "cell_type": "code",
     "collapsed": false,
     "input": [
      "rownanie_kwadratowe(1, 0, -1)"
     ],
     "language": "python",
     "metadata": {
      "slideshow": {
       "slide_type": "fragment"
      }
     },
     "outputs": [
      {
       "metadata": {},
       "output_type": "pyout",
       "prompt_number": 5,
       "text": [
        "(1.0, -1.0)"
       ]
      }
     ],
     "prompt_number": 5
    },
    {
     "cell_type": "code",
     "collapsed": false,
     "input": [
      "rownanie_kwadratowe(1, 2, 1)"
     ],
     "language": "python",
     "metadata": {
      "slideshow": {
       "slide_type": "fragment"
      }
     },
     "outputs": [
      {
       "metadata": {},
       "output_type": "pyout",
       "prompt_number": 6,
       "text": [
        "(-1.0, None)"
       ]
      }
     ],
     "prompt_number": 6
    },
    {
     "cell_type": "code",
     "collapsed": false,
     "input": [
      "rownanie_kwadratowe(1, 0, 1)"
     ],
     "language": "python",
     "metadata": {
      "slideshow": {
       "slide_type": "fragment"
      }
     },
     "outputs": [
      {
       "ename": "ValueError",
       "evalue": "R\u00f3wnanie nie ma rozwi\u0105za\u0144\u00a0rzeczywistych",
       "output_type": "pyerr",
       "traceback": [
        "\u001b[1;31m---------------------------------------------------------------------------\u001b[0m\n\u001b[1;31mValueError\u001b[0m                                Traceback (most recent call last)",
        "\u001b[1;32m<ipython-input-7-45325fa8843e>\u001b[0m in \u001b[0;36m<module>\u001b[1;34m()\u001b[0m\n\u001b[1;32m----> 1\u001b[1;33m \u001b[0mrownanie_kwadratowe\u001b[0m\u001b[1;33m(\u001b[0m\u001b[1;36m1\u001b[0m\u001b[1;33m,\u001b[0m \u001b[1;36m0\u001b[0m\u001b[1;33m,\u001b[0m \u001b[1;36m1\u001b[0m\u001b[1;33m)\u001b[0m\u001b[1;33m\u001b[0m\u001b[0m\n\u001b[0m",
        "\u001b[1;32m<ipython-input-4-4e49bf685f6b>\u001b[0m in \u001b[0;36mrownanie_kwadratowe\u001b[1;34m(a, b, c)\u001b[0m\n\u001b[0;32m      3\u001b[0m     \u001b[0md\u001b[0m \u001b[1;33m=\u001b[0m \u001b[0mb\u001b[0m\u001b[1;33m**\u001b[0m\u001b[1;36m2\u001b[0m \u001b[1;33m-\u001b[0m \u001b[1;36m4\u001b[0m\u001b[1;33m*\u001b[0m\u001b[0ma\u001b[0m\u001b[1;33m*\u001b[0m\u001b[0mc\u001b[0m\u001b[1;33m\u001b[0m\u001b[0m\n\u001b[0;32m      4\u001b[0m     \u001b[1;32mif\u001b[0m \u001b[0md\u001b[0m \u001b[1;33m<\u001b[0m \u001b[1;36m0\u001b[0m\u001b[1;33m:\u001b[0m\u001b[1;33m\u001b[0m\u001b[0m\n\u001b[1;32m----> 5\u001b[1;33m         \u001b[1;32mraise\u001b[0m \u001b[0mValueError\u001b[0m\u001b[1;33m(\u001b[0m\u001b[1;34m\"R\u00f3wnanie nie ma rozwi\u0105za\u0144\u00a0rzeczywistych\"\u001b[0m\u001b[1;33m)\u001b[0m\u001b[1;33m\u001b[0m\u001b[0m\n\u001b[0m\u001b[0;32m      6\u001b[0m     \u001b[1;32mif\u001b[0m \u001b[0md\u001b[0m \u001b[1;33m==\u001b[0m \u001b[1;36m0\u001b[0m\u001b[1;33m:\u001b[0m\u001b[1;33m\u001b[0m\u001b[0m\n\u001b[0;32m      7\u001b[0m         \u001b[1;32mreturn\u001b[0m \u001b[1;33m(\u001b[0m\u001b[1;33m-\u001b[0m\u001b[0mb\u001b[0m\u001b[1;33m/\u001b[0m\u001b[1;33m(\u001b[0m\u001b[1;36m2\u001b[0m\u001b[1;33m*\u001b[0m\u001b[0ma\u001b[0m\u001b[1;33m)\u001b[0m\u001b[1;33m,\u001b[0m \u001b[1;32mNone\u001b[0m\u001b[1;33m)\u001b[0m\u001b[1;33m\u001b[0m\u001b[0m\n",
        "\u001b[1;31mValueError\u001b[0m: R\u00f3wnanie nie ma rozwi\u0105za\u0144\u00a0rzeczywistych"
       ]
      }
     ],
     "prompt_number": 7
    },
    {
     "cell_type": "markdown",
     "metadata": {
      "slideshow": {
       "slide_type": "slide"
      }
     },
     "source": [
      "## Obs\u0142uga sytuacji wyj\u0105tkowych"
     ]
    },
    {
     "cell_type": "code",
     "collapsed": false,
     "input": [
      "print(\"Podaj oddzielone przecinakmi wsp\u00f3\u0142czynniki r\u00f3wnania\")\n",
      "a, b, c = map(int, input().split(',')) # Ten kawa\u0142ek mo\u017c\u0119 by\u0107 enigmatyczny! \n",
      "try: \n",
      "    print(\"Wynik r\u00f3wnania {}\".format(rownanie_kwadratowe(a, b, c)))\n",
      "except ValueError:\n",
      "    print(\"R\u00f3wnanie nie ma wynik\u00f3w\")"
     ],
     "language": "python",
     "metadata": {
      "slideshow": {
       "slide_type": "fragment"
      }
     },
     "outputs": [
      {
       "output_type": "stream",
       "stream": "stdout",
       "text": [
        "Podaj oddzielone przecinakmi wsp\u00f3\u0142czynniki r\u00f3wnania\n"
       ]
      },
      {
       "name": "stdout",
       "output_type": "stream",
       "stream": "stdout",
       "text": [
        "1, 2, 1\n"
       ]
      },
      {
       "output_type": "stream",
       "stream": "stdout",
       "text": [
        "Wynik r\u00f3wnania (-1.0, None)\n"
       ]
      }
     ],
     "prompt_number": 10
    },
    {
     "cell_type": "markdown",
     "metadata": {
      "slideshow": {
       "slide_type": "fragment"
      }
     },
     "source": [
      "polecenie ``pass`` nie robi nic"
     ]
    },
    {
     "cell_type": "code",
     "collapsed": false,
     "input": [
      "# Pe\u0142na sk\u0142adnia insrukcji: \n",
      "try: \n",
      "    pass # Tutaj spodziewamy si\u0119\u00a0wyj\u0105tku\n",
      "except (IndexError, KeyError) as e: \n",
      "    pass # Klauzula Catch mo\u017ce z\u0142apa\u0107\u00a0wiele typ\u00f3w wyj\u0105tk\u00f3w. \n",
      "    #Wyj\u0105tek jest widoczny jako zmienna e\n",
      "except ValueError as e: \n",
      "    pass \n",
      "else: \n",
      "    pass # Wykona si\u0119 je\u015bli blok try nie rzuci wyj\u0105tku\n",
      "    # Ale \n",
      "finally: \n",
      "    pass # Wykona si\u0119 zawsze"
     ],
     "language": "python",
     "metadata": {
      "slideshow": {
       "slide_type": "fragment"
      }
     },
     "outputs": [],
     "prompt_number": 11
    },
    {
     "cell_type": "markdown",
     "metadata": {
      "slideshow": {
       "slide_type": "slide"
      }
     },
     "source": [
      "# Klasy"
     ]
    },
    {
     "cell_type": "code",
     "collapsed": false,
     "input": [
      "class Foo(object): # Klasa o nazwie Foo dziedziczy po typie object\n",
      "    \n",
      "    def __init__(self, foo): # Konsruktor \n",
      "        self.foo = foo # Utworzenie artybutu\n",
      "        \n",
      "    def print_foo(self):\n",
      "        print(foo)"
     ],
     "language": "python",
     "metadata": {
      "slideshow": {
       "slide_type": "fragment"
      }
     },
     "outputs": [],
     "prompt_number": 12
    },
    {
     "cell_type": "markdown",
     "metadata": {
      "slideshow": {
       "slide_type": "fragment"
      }
     },
     "source": [
      "Zmienna ``self`` jest odpowiednikiem ``this`` z Javy/C++, r\u00f3\u017cnica jest taka \u017ce znajduje si\u0119 na li\u015bcie argument\u00f3w, oraz \n",
      "musi by\u0107\u00a0zawsze u\u017cywana jawnie"
     ]
    },
    {
     "cell_type": "code",
     "collapsed": false,
     "input": [
      "inst = Foo('foo')\n",
      "inst.foo"
     ],
     "language": "python",
     "metadata": {
      "slideshow": {
       "slide_type": "fragment"
      }
     },
     "outputs": [
      {
       "metadata": {},
       "output_type": "pyout",
       "prompt_number": 13,
       "text": [
        "'foo'"
       ]
      }
     ],
     "prompt_number": 13
    },
    {
     "cell_type": "code",
     "collapsed": false,
     "input": [
      "print(inst)"
     ],
     "language": "python",
     "metadata": {
      "slideshow": {
       "slide_type": "fragment"
      }
     },
     "outputs": [
      {
       "output_type": "stream",
       "stream": "stdout",
       "text": [
        "<__main__.Foo object at 0x7f83b81316d8>\n"
       ]
      }
     ],
     "prompt_number": 14
    },
    {
     "cell_type": "markdown",
     "metadata": {
      "slideshow": {
       "slide_type": "fragment"
      }
     },
     "source": [
      "Atrybut do obiektu mo\u017cna przypi\u0105\u0107 r\u00f3wnie\u017c\u00a0poza metod\u0105\u00a0``__init__``: "
     ]
    },
    {
     "cell_type": "code",
     "collapsed": false,
     "input": [
      "inst.bar = 'bar'\n",
      "inst.bar"
     ],
     "language": "python",
     "metadata": {
      "slideshow": {
       "slide_type": "fragment"
      }
     },
     "outputs": [
      {
       "metadata": {},
       "output_type": "pyout",
       "prompt_number": 15,
       "text": [
        "'bar'"
       ]
      }
     ],
     "prompt_number": 15
    },
    {
     "cell_type": "markdown",
     "metadata": {
      "slideshow": {
       "slide_type": "slide"
      }
     },
     "source": [
      "## Dziedziczenie"
     ]
    },
    {
     "cell_type": "markdown",
     "metadata": {
      "slideshow": {
       "slide_type": "fragment"
      }
     },
     "source": [
      "Python (oczywi\u015bcie!) wspiera dziedziczenie: \n",
      "\n",
      "* Wspiera nawet wielodziedziczenie (dziedziczenie po wielu obiektach) ale o tym nie b\u0119d\u0119 m\u00f3wi\u0107. \n",
      "* Klasa dziedzicz\u0105ca mo\u017ce nadpisywa\u0107 metody i atrybuty."
     ]
    },
    {
     "cell_type": "code",
     "collapsed": false,
     "input": [
      "class Foo(object): \n",
      "    \n",
      "    def foo(self): \n",
      "        print(\"foo\")\n",
      "        \n",
      "    def bar(self): \n",
      "        print(\"foo\")\n",
      "        \n",
      "foo = Foo()\n",
      "foo.foo()\n",
      "foo.bar()"
     ],
     "language": "python",
     "metadata": {
      "slideshow": {
       "slide_type": "fragment"
      }
     },
     "outputs": [
      {
       "output_type": "stream",
       "stream": "stdout",
       "text": [
        "foo\n",
        "foo\n"
       ]
      }
     ],
     "prompt_number": 16
    },
    {
     "cell_type": "code",
     "collapsed": false,
     "input": [
      "class Baz(Foo): # Dziedziczy\n",
      "    \n",
      "    def bar(self): \n",
      "        print (\"bar\")\n",
      "\n",
      "baz = Baz()\n",
      "baz.foo()\n",
      "baz.bar()"
     ],
     "language": "python",
     "metadata": {
      "slideshow": {
       "slide_type": "fragment"
      }
     },
     "outputs": [
      {
       "output_type": "stream",
       "stream": "stdout",
       "text": [
        "foo\n",
        "bar\n"
       ]
      }
     ],
     "prompt_number": 17
    },
    {
     "cell_type": "heading",
     "level": 2,
     "metadata": {
      "slideshow": {
       "slide_type": "slide"
      }
     },
     "source": [
      "Wywo\u0142ywanie metod z nadklasy"
     ]
    },
    {
     "cell_type": "code",
     "collapsed": false,
     "input": [
      "class BazFoo(Foo): # Dziedziczy\n",
      "    \n",
      "    def bar(self): \n",
      "        super().bar() # Super wybiera metod\u0119\u00a0z nadklasy \n",
      "        Foo.foo(self) # Tak te\u017c\u00a0mo\u017cna! \n",
      "        print (\"bar\")"
     ],
     "language": "python",
     "metadata": {
      "slideshow": {
       "slide_type": "fragment"
      }
     },
     "outputs": [],
     "prompt_number": 20
    },
    {
     "cell_type": "code",
     "collapsed": false,
     "input": [
      "bazfoo = BazFoo()\n",
      "bazfoo.bar()"
     ],
     "language": "python",
     "metadata": {
      "slideshow": {
       "slide_type": "fragment"
      }
     },
     "outputs": [
      {
       "output_type": "stream",
       "stream": "stdout",
       "text": [
        "foo\n",
        "foo\n",
        "bar\n"
       ]
      }
     ],
     "prompt_number": 21
    },
    {
     "cell_type": "markdown",
     "metadata": {
      "slideshow": {
       "slide_type": "fragment"
      }
     },
     "source": [
      "Super jest bardzo przydatne przy wielodziedziczenu, ale tutaj raczej ods\u0142y\u0142am do lektury: http://www.artima.com/weblogs/viewpost.jsp?thread=236275"
     ]
    },
    {
     "cell_type": "heading",
     "level": 2,
     "metadata": {
      "slideshow": {
       "slide_type": "slide"
      }
     },
     "source": [
      "Prywatno\u015b\u0107"
     ]
    },
    {
     "cell_type": "markdown",
     "metadata": {
      "slideshow": {
       "slide_type": "fragment"
      }
     },
     "source": [
      "W Pythonie nie ma zmiennych prywatnych. Domy\u015blnie wszystko jest dost\u0119pne. \n",
      "\n",
      "Ma to sporo wad, ale te\u017c\u00a0du\u017co zalet. G\u0142\u00f3wn\u0105 jest to \u017ce zawsze mo\u017cna naprawi\u0107 cudzy kod (bez ingerencji w kod \u017ar\u00f3d\u0142owy) po prostu nadpisuj\u0105c \u017ale dzia\u0142aj\u0105ce jego cz\u0119\u015bci. "
     ]
    },
    {
     "cell_type": "markdown",
     "metadata": {
      "slideshow": {
       "slide_type": "fragment"
      }
     },
     "source": [
      "Zgodnie z konwencj\u0105\u00a0zmienne zaczynaj\u0105ce si\u0119 od podkre\u015blenia s\u0105\u00a0prywatnawe, s\u0105\u00a0dost\u0119pne jak ka\u017cde inne, ale u\u017cytkownik kodu powinien przeczyta\u0107 dokumentacj\u0119\u00a0zanim zacznie ich u\u017cywa\u0107. Ta zmienna: `_foo` jest prywatnawa. "
     ]
    },
    {
     "cell_type": "markdown",
     "metadata": {
      "slideshow": {
       "slide_type": "fragment"
      }
     },
     "source": [
      "Zmienne z dwoma podkre\u015bleniami na pocz\u0105tku s\u0105\u00a0chronione za pomoc\u0105\u00a0name mangling, na przyk\u0142ad takie: `__foo`."
     ]
    },
    {
     "cell_type": "markdown",
     "metadata": {
      "slideshow": {
       "slide_type": "fragment"
      }
     },
     "source": [
      "Zmienne ktore zaczynaj\u0105\u00a0i ko\u0144cz\u0105 si\u0119\u00a0dwoma podkre\u015bleniami s\u0105 to zmienne zarezerwowane przez tw\u00f3rc\u00f3w Pythona, na przyk\u0142ad \n",
      "`__init__`, `__del__`. "
     ]
    },
    {
     "cell_type": "heading",
     "level": 2,
     "metadata": {},
     "source": [
      "Prywatno\u015b\u0107"
     ]
    },
    {
     "cell_type": "code",
     "collapsed": false,
     "input": [
      "class Foo():\n",
      "    \n",
      "    def __init__(self): \n",
      "        self.normal = 1\n",
      "        self._private = 2\n",
      "        self.__mangled = 3"
     ],
     "language": "python",
     "metadata": {
      "slideshow": {
       "slide_type": "fragment"
      }
     },
     "outputs": [],
     "prompt_number": 23
    },
    {
     "cell_type": "code",
     "collapsed": false,
     "input": [
      "foo = Foo()\n",
      "foo.__dict__ #__dict__ przechowuje s\u0142owinik zawieraj\u0105cy atrybuty klasy"
     ],
     "language": "python",
     "metadata": {
      "slideshow": {
       "slide_type": "fragment"
      }
     },
     "outputs": [
      {
       "metadata": {},
       "output_type": "pyout",
       "prompt_number": 27,
       "text": [
        "{'_private': 2, '_Foo__mangled': 3, 'normal': 1}"
       ]
      }
     ],
     "prompt_number": 27
    },
    {
     "cell_type": "markdown",
     "metadata": {
      "slideshow": {
       "slide_type": "slide"
      }
     },
     "source": [
      "## Duck typing\n",
      "\n",
      "If it walks like a duck, if it quacks like a duck: it is a duck! "
     ]
    },
    {
     "cell_type": "markdown",
     "metadata": {
      "slideshow": {
       "slide_type": "fragment"
      }
     },
     "source": [
      "W Pythonie do\u015b\u0107 rzadko sprawdza si\u0119\u00a0typy r\u00f3\u017cnych obiekt\u00f3w. Zak\u0142ada si\u0119 raczej \u017ce je\u015bli co\u015b\u00a0wspiera operacje dost\u0119pne dla kaczki to jest kaczk\u0105. "
     ]
    },
    {
     "cell_type": "code",
     "collapsed": false,
     "input": [
      "class FooImpostor(object): \n",
      "    def foo(self):\n",
      "        print ('impostor')\n",
      "        \n",
      "def expect_foo(foo):\n",
      "    foo.foo()\n",
      "    \n",
      "expect_foo(Foo())    \n",
      "expect_foo(FooImpostor())"
     ],
     "language": "python",
     "metadata": {
      "slideshow": {
       "slide_type": "fragment"
      }
     },
     "outputs": [
      {
       "output_type": "stream",
       "stream": "stdout",
       "text": [
        "foo\n",
        "impostor\n"
       ]
      }
     ],
     "prompt_number": 35
    },
    {
     "cell_type": "markdown",
     "metadata": {
      "slideshow": {
       "slide_type": "slide"
      }
     },
     "source": [
      "# Wszystko jest obiektem"
     ]
    },
    {
     "cell_type": "markdown",
     "metadata": {
      "slideshow": {
       "slide_type": "fragment"
      }
     },
     "source": [
      "Obiekt to co\u015b co: \n",
      "\n",
      "* Ma/mo\u017ce mie\u0107 atrybuty\n",
      "* Mo\u017cna to przypisa\u0107\u00a0to zmiennej \n",
      "* Mo\u017cna zserializowa\u0107 na dysk"
     ]
    },
    {
     "cell_type": "markdown",
     "metadata": {
      "slideshow": {
       "slide_type": "slide"
      }
     },
     "source": [
      "## Funkcja jest obiektem"
     ]
    },
    {
     "cell_type": "code",
     "collapsed": false,
     "input": [
      "def foo(): \n",
      "    print(\"foo\")\n",
      "foo()"
     ],
     "language": "python",
     "metadata": {
      "slideshow": {
       "slide_type": "subslide"
      }
     },
     "outputs": [
      {
       "output_type": "stream",
       "stream": "stdout",
       "text": [
        "foo\n"
       ]
      }
     ],
     "prompt_number": 36
    },
    {
     "cell_type": "code",
     "collapsed": false,
     "input": [
      "foo.bar = \"10\"\n",
      "print(foo.bar)"
     ],
     "language": "python",
     "metadata": {
      "slideshow": {
       "slide_type": "fragment"
      }
     },
     "outputs": [
      {
       "output_type": "stream",
       "stream": "stdout",
       "text": [
        "10\n"
       ]
      }
     ],
     "prompt_number": 37
    },
    {
     "cell_type": "code",
     "collapsed": false,
     "input": [
      "bar = foo \n",
      "bar()"
     ],
     "language": "python",
     "metadata": {
      "slideshow": {
       "slide_type": "fragment"
      }
     },
     "outputs": [
      {
       "output_type": "stream",
       "stream": "stdout",
       "text": [
        "foo\n"
       ]
      }
     ],
     "prompt_number": 38
    },
    {
     "cell_type": "markdown",
     "metadata": {
      "slideshow": {
       "slide_type": "slide"
      }
     },
     "source": [
      "## Przyk\u0142ad wykorzystania przekazania funkcji jako obiektu"
     ]
    },
    {
     "cell_type": "markdown",
     "metadata": {
      "slideshow": {
       "slide_type": "fragment"
      }
     },
     "source": [
      "Posortujemy list\u0119 pythona w kolejno\u015bci malej\u0105cej. Do sortowania s\u0142u\u017cy wbudowana funkcja ``sorted``, \n",
      "przyjmuje ona (mi\u0119dzy innymi) funkcj\u0119\u00a0generuj\u0105c\u0105 klucz sortuj\u0105cy obiekty b\u0119d\u0105 posortowane (rosn\u0105co) wzgl\u0119dem warto\u015bci klucza. "
     ]
    },
    {
     "cell_type": "code",
     "collapsed": false,
     "input": [
      "def key(x): \n",
      "    return -x "
     ],
     "language": "python",
     "metadata": {
      "slideshow": {
       "slide_type": "fragment"
      }
     },
     "outputs": [],
     "prompt_number": 39
    },
    {
     "cell_type": "code",
     "collapsed": false,
     "input": [
      "l = list(range(10))"
     ],
     "language": "python",
     "metadata": {
      "slideshow": {
       "slide_type": "fragment"
      }
     },
     "outputs": [],
     "prompt_number": 40
    },
    {
     "cell_type": "code",
     "collapsed": false,
     "input": [
      "l"
     ],
     "language": "python",
     "metadata": {
      "slideshow": {
       "slide_type": "fragment"
      }
     },
     "outputs": [
      {
       "metadata": {},
       "output_type": "pyout",
       "prompt_number": 41,
       "text": [
        "[0, 1, 2, 3, 4, 5, 6, 7, 8, 9]"
       ]
      }
     ],
     "prompt_number": 41
    },
    {
     "cell_type": "code",
     "collapsed": false,
     "input": [
      "sorted(l, key=key)"
     ],
     "language": "python",
     "metadata": {
      "slideshow": {
       "slide_type": "fragment"
      }
     },
     "outputs": [
      {
       "metadata": {},
       "output_type": "pyout",
       "prompt_number": 42,
       "text": [
        "[9, 8, 7, 6, 5, 4, 3, 2, 1, 0]"
       ]
      }
     ],
     "prompt_number": 42
    },
    {
     "cell_type": "markdown",
     "metadata": {
      "slideshow": {
       "slide_type": "slide"
      }
     },
     "source": [
      "## Problem z \"funkcja jest obiektem\" \n",
      "\n",
      "Nie da si\u0119 prze\u0142adowywa\u0107 funkcji --- w danej przestrzeni nazw mo\u017ce istnie\u0107 tylko jedna funkcja o danej nazwie"
     ]
    },
    {
     "cell_type": "markdown",
     "metadata": {
      "slideshow": {
       "slide_type": "slide"
      }
     },
     "source": [
      "## Typ jest obiektem"
     ]
    },
    {
     "cell_type": "code",
     "collapsed": false,
     "input": [
      "class Foo(object): \n",
      "    pass"
     ],
     "language": "python",
     "metadata": {
      "slideshow": {
       "slide_type": "fragment"
      }
     },
     "outputs": [],
     "prompt_number": 43
    },
    {
     "cell_type": "code",
     "collapsed": false,
     "input": [
      "Bar = Foo"
     ],
     "language": "python",
     "metadata": {
      "slideshow": {
       "slide_type": "fragment"
      }
     },
     "outputs": [],
     "prompt_number": 44
    },
    {
     "cell_type": "code",
     "collapsed": false,
     "input": [
      "Bar()"
     ],
     "language": "python",
     "metadata": {
      "slideshow": {
       "slide_type": "fragment"
      }
     },
     "outputs": [
      {
       "metadata": {},
       "output_type": "pyout",
       "prompt_number": 45,
       "text": [
        "<__main__.Foo at 0x7f8ae809a748>"
       ]
      }
     ],
     "prompt_number": 45
    },
    {
     "cell_type": "code",
     "collapsed": false,
     "input": [
      "class Bar(object): pass\n",
      "class Baz(object): pass\n",
      "\n",
      "types = [Foo, Bar, Baz]"
     ],
     "language": "python",
     "metadata": {
      "slideshow": {
       "slide_type": "fragment"
      }
     },
     "outputs": [],
     "prompt_number": 46
    },
    {
     "cell_type": "markdown",
     "metadata": {
      "slideshow": {
       "slide_type": "slide"
      }
     },
     "source": [
      "## Domkni\u0119cia (*z ang.* closure)"
     ]
    },
    {
     "cell_type": "markdown",
     "metadata": {
      "slideshow": {
       "slide_type": "fragment"
      }
     },
     "source": [
      "Domkni\u0119cie to: obiekt wi\u0105\u017c\u0105cy funkcj\u0119 oraz wolne zmienne znajduj\u0105ce si\u0119 w \u015brodowisku jej definicji. \n",
      "\n",
      "Przyk\u0142ad:"
     ]
    },
    {
     "cell_type": "code",
     "collapsed": false,
     "input": [
      "x = 10\n",
      "def foo(y): \n",
      "    return x*y\n",
      "foo(2)"
     ],
     "language": "python",
     "metadata": {
      "slideshow": {
       "slide_type": "fragment"
      }
     },
     "outputs": [
      {
       "metadata": {},
       "output_type": "pyout",
       "prompt_number": 47,
       "text": [
        "20"
       ]
      }
     ],
     "prompt_number": 47
    },
    {
     "cell_type": "markdown",
     "metadata": {
      "slideshow": {
       "slide_type": "fragment"
      }
     },
     "source": [
      "* Funkcja foo przyjmuje jeden argument `y` \n",
      "* Druga (`x`) zmienna pochodzi z **domkni\u0119cia**. "
     ]
    },
    {
     "cell_type": "markdown",
     "metadata": {
      "slideshow": {
       "slide_type": "slide"
      }
     },
     "source": [
      "## Modyfikacja zmiennej z domkni\u0119cia: "
     ]
    },
    {
     "cell_type": "markdown",
     "metadata": {
      "slideshow": {
       "slide_type": "fragment"
      }
     },
     "source": [
      "* Generalnie u\u0142atwianie modyfikcji globalnego kontekstu jest z\u0142ym pomys\u0142em. \n",
      "* By powiedzie\u0107: \"Drogi Interpreterze wiem co robi\u0119 pozw\u00f3l mi zmodyfikowac globaln\u0105 zmienn\u0105 y\" mo\u017cna u\u017cy\u0107\u00a0s\u0142owa `global` kt\u00f3re oznacza zmienn\u0105 jako istniej\u0105c\u0105 globalnie. "
     ]
    },
    {
     "cell_type": "code",
     "collapsed": false,
     "input": [
      "x = 10\n",
      "def foo(): \n",
      "    global x \n",
      "    x = 20\n",
      "foo()\n",
      "x"
     ],
     "language": "python",
     "metadata": {
      "slideshow": {
       "slide_type": "fragment"
      }
     },
     "outputs": [
      {
       "metadata": {},
       "output_type": "pyout",
       "prompt_number": 48,
       "text": [
        "20"
       ]
      }
     ],
     "prompt_number": 48
    },
    {
     "cell_type": "heading",
     "level": 1,
     "metadata": {
      "slideshow": {
       "slide_type": "slide"
      }
     },
     "source": [
      "Keyword arguments"
     ]
    },
    {
     "cell_type": "markdown",
     "metadata": {
      "slideshow": {
       "slide_type": "fragment"
      }
     },
     "source": [
      "Brak mo\u017cliwo\u015bci prze\u0142adowania funkcji powoduje \u017ce funkcie w Pythonie przyjmuj\u0105 du\u017co argument\u00f3w"
     ]
    },
    {
     "cell_type": "code",
     "collapsed": false,
     "input": [
      "def minimize(fun, x0, args=(), method=None, jac=None, hess=None,\n",
      "             hessp=None, bounds=None, constraints=(), tol=None,\n",
      "             callback=None, options=None):\n",
      "    pass "
     ],
     "language": "python",
     "metadata": {
      "slideshow": {
       "slide_type": "fragment"
      }
     },
     "outputs": [],
     "prompt_number": 49
    },
    {
     "cell_type": "markdown",
     "metadata": {
      "slideshow": {
       "slide_type": "fragment"
      }
     },
     "source": [
      "Wydaje si\u0119\u00a0\u017c\u0119 jest do do\u015b\u0107\u00a0niewygodne, ale da si\u0119\u00a0z tym \u017cy\u0107. \n",
      "\n",
      "We\u017amy prostszy przyk\u0142ad: "
     ]
    },
    {
     "cell_type": "code",
     "collapsed": false,
     "input": [
      "def foo(foo, bar=None, baz=None):\n",
      "    print(foo, bar, baz)"
     ],
     "language": "python",
     "metadata": {
      "slideshow": {
       "slide_type": "fragment"
      }
     },
     "outputs": [],
     "prompt_number": 50
    },
    {
     "cell_type": "code",
     "collapsed": false,
     "input": [
      "foo('foo')\n",
      "foo('foo', 'bar')"
     ],
     "language": "python",
     "metadata": {
      "slideshow": {
       "slide_type": "fragment"
      }
     },
     "outputs": [
      {
       "output_type": "stream",
       "stream": "stdout",
       "text": [
        "foo None None\n",
        "foo bar None\n"
       ]
      }
     ],
     "prompt_number": 51
    },
    {
     "cell_type": "heading",
     "level": 1,
     "metadata": {
      "slideshow": {
       "slide_type": "slide"
      }
     },
     "source": [
      "Keyword Arguments"
     ]
    },
    {
     "cell_type": "code",
     "collapsed": false,
     "input": [
      "foo('foo', baz='foobaz')"
     ],
     "language": "python",
     "metadata": {
      "slideshow": {
       "slide_type": "fragment"
      }
     },
     "outputs": [
      {
       "output_type": "stream",
       "stream": "stdout",
       "text": [
        "foo None foobaz\n"
       ]
      }
     ],
     "prompt_number": 52
    },
    {
     "cell_type": "markdown",
     "metadata": {
      "slideshow": {
       "slide_type": "fragment"
      }
     },
     "source": [
      "Taka sk\u0142adnia oznacza:\n",
      "\n",
      "* Pierwszy argument ma warto\u015b\u0107 foo\n",
      "* Argument o nazwie ``baz`` przyjmuje warto\u015b\u0107 ``foobaz``\n",
      "* Pozosta\u0142e argumenty przyjmuj\u0105 warto\u015b\u0107\u00a0domy\u015bln\u0105"
     ]
    },
    {
     "cell_type": "code",
     "collapsed": false,
     "input": [
      "foo(baz='foobaz', foo='foo') # Kolejno\u015b\u0107 keyword argument\u00f3w nie ma znaczenia"
     ],
     "language": "python",
     "metadata": {
      "slideshow": {
       "slide_type": "fragment"
      }
     },
     "outputs": [
      {
       "output_type": "stream",
       "stream": "stdout",
       "text": [
        "foo None foobaz\n"
       ]
      }
     ],
     "prompt_number": 53
    },
    {
     "cell_type": "code",
     "collapsed": false,
     "input": [
      "foo(baz='foobaz', 'foo') # Ale najpierw nale\u017cy poda\u0107 wszystkie \"zwyk\u0142e argumenty\""
     ],
     "language": "python",
     "metadata": {
      "slideshow": {
       "slide_type": "fragment"
      }
     },
     "outputs": [
      {
       "ename": "SyntaxError",
       "evalue": "non-keyword arg after keyword arg (<ipython-input-54-c119fcd00c21>, line 1)",
       "output_type": "pyerr",
       "traceback": [
        "\u001b[1;36m  File \u001b[1;32m\"<ipython-input-54-c119fcd00c21>\"\u001b[1;36m, line \u001b[1;32m1\u001b[0m\n\u001b[1;33m    foo(baz='foobaz', 'foo') # Ale najpierw nale\u017cy poda\u0107 wszystkie \"zwyk\u0142e argumenty\"\u001b[0m\n\u001b[1;37m                     ^\u001b[0m\n\u001b[1;31mSyntaxError\u001b[0m\u001b[1;31m:\u001b[0m non-keyword arg after keyword arg\n"
       ]
      }
     ],
     "prompt_number": 54
    },
    {
     "cell_type": "code",
     "collapsed": false,
     "input": [],
     "language": "python",
     "metadata": {},
     "outputs": []
    }
   ],
   "metadata": {}
  }
 ]
}