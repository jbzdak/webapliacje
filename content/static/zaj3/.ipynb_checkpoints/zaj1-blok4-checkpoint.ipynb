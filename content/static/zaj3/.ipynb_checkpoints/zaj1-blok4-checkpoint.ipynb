{
 "cells": [
  {
   "cell_type": "markdown",
   "metadata": {
    "slideshow": {
     "slide_type": "slide"
    }
   },
   "source": [
    "# Moduły, paczki"
   ]
  },
  {
   "cell_type": "markdown",
   "metadata": {
    "slideshow": {
     "slide_type": "fragment"
    }
   },
   "source": [
    "Plik ``.py`` nazywany jest modułem pythona. \n",
    "\n",
    "Powiedzmy że napisałem dwie bardzo przydatne funkcje i chcę je jakoś razem umieścić tak by inni mogli z nich korzystać. By je spakować po prostu zapisuję te dwie funkcje do pliku. "
   ]
  },
  {
   "cell_type": "code",
   "execution_count": 1,
   "metadata": {
    "collapsed": false,
    "slideshow": {
     "slide_type": "fragment"
    }
   },
   "outputs": [],
   "source": [
    "def _fib_generator(): \n",
    "    \"\"\"\n",
    "    Ta funkcja jest prywatna (w zasadzie prywatnawa), \n",
    "    wykonuje właściwe obliczenia. \n",
    "    \"\"\"\n",
    "    a, b = 0, 1       \n",
    "    while True: \n",
    "        a, b = b, a + b\n",
    "        yield b\n",
    "\n",
    "def fib(n):\n",
    "    \"\"\"\n",
    "    Zwraca N-tą liczbę Fibonacciego\n",
    "    \"\"\"\n",
    "    r = 0\n",
    "    for ii, r in zip(range(n), _fib_generator()):\n",
    "        pass\n",
    "    return r\n",
    "\n",
    "\n",
    "def fib2(n): # return Fibonacci series up to n\n",
    "    result = []\n",
    "    r = 0\n",
    "    for r in _fib_generator():        \n",
    "        if r > n: \n",
    "            return result\n",
    "        result.append(r)"
   ]
  },
  {
   "cell_type": "code",
   "execution_count": 2,
   "metadata": {
    "collapsed": false,
    "slideshow": {
     "slide_type": "fragment"
    }
   },
   "outputs": [
    {
     "data": {
      "text/plain": [
       "3"
      ]
     },
     "execution_count": 2,
     "metadata": {},
     "output_type": "execute_result"
    }
   ],
   "source": [
    "fib(3)"
   ]
  },
  {
   "cell_type": "code",
   "execution_count": 3,
   "metadata": {
    "collapsed": false,
    "slideshow": {
     "slide_type": "fragment"
    }
   },
   "outputs": [
    {
     "data": {
      "text/plain": [
       "[1, 2]"
      ]
     },
     "execution_count": 3,
     "metadata": {},
     "output_type": "execute_result"
    }
   ],
   "source": [
    "fib2(2)"
   ]
  },
  {
   "cell_type": "code",
   "execution_count": 11,
   "metadata": {
    "collapsed": false,
    "slideshow": {
     "slide_type": "fragment"
    }
   },
   "outputs": [
    {
     "name": "stdout",
     "output_type": "stream",
     "text": [
      "fib.py\n"
     ]
    }
   ],
   "source": [
    "%%bash \n",
    "\n",
    "ls *.py"
   ]
  },
  {
   "cell_type": "markdown",
   "metadata": {
    "slideshow": {
     "slide_type": "slide"
    }
   },
   "source": [
    "## Importowanie"
   ]
  },
  {
   "cell_type": "code",
   "execution_count": 12,
   "metadata": {
    "collapsed": false,
    "slideshow": {
     "slide_type": "fragment"
    }
   },
   "outputs": [],
   "source": [
    "import fib # Zaimportowałem cały moduł"
   ]
  },
  {
   "cell_type": "code",
   "execution_count": 13,
   "metadata": {
    "collapsed": false,
    "slideshow": {
     "slide_type": "fragment"
    }
   },
   "outputs": [
    {
     "data": {
      "text/plain": [
       "1346269"
      ]
     },
     "execution_count": 13,
     "metadata": {},
     "output_type": "execute_result"
    }
   ],
   "source": [
    "fib.fib(30) # By wykonać funkcję muszę podać nazwę modułu o nazwę obiektu wewnątrz modułu"
   ]
  },
  {
   "cell_type": "code",
   "execution_count": 14,
   "metadata": {
    "collapsed": false,
    "slideshow": {
     "slide_type": "skip"
    }
   },
   "outputs": [],
   "source": [
    "if 'fib2' in globals():\n",
    "    del fib2 # Usuwamy funkcję fib2"
   ]
  },
  {
   "cell_type": "code",
   "execution_count": 16,
   "metadata": {
    "collapsed": false,
    "slideshow": {
     "slide_type": "fragment"
    }
   },
   "outputs": [],
   "source": [
    "from fib import fib, fib2 #Importujemy poszczególne funkcje z modułu"
   ]
  },
  {
   "cell_type": "code",
   "execution_count": 17,
   "metadata": {
    "collapsed": false,
    "slideshow": {
     "slide_type": "fragment"
    }
   },
   "outputs": [
    {
     "data": {
      "text/plain": [
       "[1, 2, 3]"
      ]
     },
     "execution_count": 17,
     "metadata": {},
     "output_type": "execute_result"
    }
   ],
   "source": [
    "fib2(3) "
   ]
  },
  {
   "cell_type": "code",
   "execution_count": 18,
   "metadata": {
    "collapsed": false,
    "slideshow": {
     "slide_type": "skip"
    }
   },
   "outputs": [],
   "source": [
    "if '_fib_generator' in globals():\n",
    "    del _fib_generator # Usuwamy funkcję fib2"
   ]
  },
  {
   "cell_type": "code",
   "execution_count": 19,
   "metadata": {
    "collapsed": false,
    "slideshow": {
     "slide_type": "fragment"
    }
   },
   "outputs": [],
   "source": [
    "from fib import * # Importujemy wszystkie nie prywatne funkcje z modułu"
   ]
  },
  {
   "cell_type": "code",
   "execution_count": 20,
   "metadata": {
    "collapsed": false,
    "slideshow": {
     "slide_type": "fragment"
    }
   },
   "outputs": [
    {
     "ename": "NameError",
     "evalue": "name '_fib_generator' is not defined",
     "output_type": "error",
     "traceback": [
      "\u001b[1;31m---------------------------------------------------------------------------\u001b[0m",
      "\u001b[1;31mNameError\u001b[0m                                 Traceback (most recent call last)",
      "\u001b[1;32m<ipython-input-20-0fbd5aa994dc>\u001b[0m in \u001b[0;36m<module>\u001b[1;34m()\u001b[0m\n\u001b[1;32m----> 1\u001b[1;33m \u001b[0m_fib_generator\u001b[0m \u001b[1;31m# Jest prywatne więc * go nie zaimportowała\u001b[0m\u001b[1;33m\u001b[0m\u001b[0m\n\u001b[0m",
      "\u001b[1;31mNameError\u001b[0m: name '_fib_generator' is not defined"
     ]
    }
   ],
   "source": [
    "_fib_generator # Jest prywatne więc * go nie zaimportowała"
   ]
  },
  {
   "cell_type": "markdown",
   "metadata": {
    "slideshow": {
     "slide_type": "slide"
    }
   },
   "source": [
    "## Moduły są keszowane"
   ]
  },
  {
   "cell_type": "markdown",
   "metadata": {
    "slideshow": {
     "slide_type": "fragment"
    }
   },
   "source": [
    "Pierwsza instrukcja `import foo` importująca dany plik i zapisuje go w pamięci. Potem następne instrukcje `import foo` ładują dane z pamięci, ewentualne zmiany w pliku nie będą uwzględnione. \n",
    "\n",
    "Istnieją metody na **przeładowanie** modułów, ale nie jest to bardzo proste narzędzie. "
   ]
  },
  {
   "cell_type": "markdown",
   "metadata": {
    "slideshow": {
     "slide_type": "slide"
    }
   },
   "source": [
    "## Import wewnątrz funkcji "
   ]
  },
  {
   "cell_type": "markdown",
   "metadata": {
    "slideshow": {
     "slide_type": "fragment"
    }
   },
   "source": [
    "Instrukcja `import` może też znaleźć się wewnątrz funkcji, wtedy zaimportowana nazwa jest widoczna tylko w tej funkcji"
   ]
  },
  {
   "cell_type": "code",
   "execution_count": 21,
   "metadata": {
    "collapsed": false,
    "slideshow": {
     "slide_type": "fragment"
    }
   },
   "outputs": [],
   "source": [
    "if 'fib2' in globals():\n",
    "    del fib2 # Usuwamy funkcję fib2"
   ]
  },
  {
   "cell_type": "code",
   "execution_count": 22,
   "metadata": {
    "collapsed": false,
    "slideshow": {
     "slide_type": "fragment"
    }
   },
   "outputs": [
    {
     "ename": "NameError",
     "evalue": "name 'fib2' is not defined",
     "output_type": "error",
     "traceback": [
      "\u001b[1;31m---------------------------------------------------------------------------\u001b[0m",
      "\u001b[1;31mNameError\u001b[0m                                 Traceback (most recent call last)",
      "\u001b[1;32m<ipython-input-22-bfadab956885>\u001b[0m in \u001b[0;36m<module>\u001b[1;34m()\u001b[0m\n\u001b[1;32m----> 1\u001b[1;33m \u001b[0mfib2\u001b[0m\u001b[1;33m(\u001b[0m\u001b[1;36m3\u001b[0m\u001b[1;33m)\u001b[0m\u001b[1;33m\u001b[0m\u001b[0m\n\u001b[0m",
      "\u001b[1;31mNameError\u001b[0m: name 'fib2' is not defined"
     ]
    }
   ],
   "source": [
    "fib2(3) "
   ]
  },
  {
   "cell_type": "code",
   "execution_count": 23,
   "metadata": {
    "collapsed": false,
    "slideshow": {
     "slide_type": "fragment"
    }
   },
   "outputs": [
    {
     "data": {
      "text/plain": [
       "[1, 2, 3]"
      ]
     },
     "execution_count": 23,
     "metadata": {},
     "output_type": "execute_result"
    }
   ],
   "source": [
    "def foo():\n",
    "    from fib import fib, fib2 #Importujemy poszczególne funkcje z modułu\n",
    "    return fib2(4)\n",
    "foo()"
   ]
  },
  {
   "cell_type": "code",
   "execution_count": 24,
   "metadata": {
    "collapsed": false,
    "slideshow": {
     "slide_type": "fragment"
    }
   },
   "outputs": [
    {
     "ename": "NameError",
     "evalue": "name 'fib2' is not defined",
     "output_type": "error",
     "traceback": [
      "\u001b[1;31m---------------------------------------------------------------------------\u001b[0m",
      "\u001b[1;31mNameError\u001b[0m                                 Traceback (most recent call last)",
      "\u001b[1;32m<ipython-input-24-bfadab956885>\u001b[0m in \u001b[0;36m<module>\u001b[1;34m()\u001b[0m\n\u001b[1;32m----> 1\u001b[1;33m \u001b[0mfib2\u001b[0m\u001b[1;33m(\u001b[0m\u001b[1;36m3\u001b[0m\u001b[1;33m)\u001b[0m\u001b[1;33m\u001b[0m\u001b[0m\n\u001b[0m",
      "\u001b[1;31mNameError\u001b[0m: name 'fib2' is not defined"
     ]
    }
   ],
   "source": [
    "fib2(3) "
   ]
  },
  {
   "cell_type": "markdown",
   "metadata": {
    "slideshow": {
     "slide_type": "slide"
    }
   },
   "source": [
    "## Skąd moduły są importowane"
   ]
  },
  {
   "cell_type": "markdown",
   "metadata": {
    "slideshow": {
     "slide_type": "fragment"
    }
   },
   "source": [
    "Maszyneria importu Pythona jest dość skomplikowana i wspiera również dynamiczne, leniwe generowanie nowych modułów. W \"zwykłym przypadku\" (nie spotkałem jeszcze niezwykłego) moduły importowane są z: "
   ]
  },
  {
   "cell_type": "markdown",
   "metadata": {
    "slideshow": {
     "slide_type": "fragment"
    }
   },
   "source": [
    "* Moduły wbudowane. \n",
    "* Z paczek systemowych. O tym jak zainstalować dodatkowe moduły pythona będzie później. Z tego miejsca importowany jest kod kiedy piszecie: ``import math``. \n",
    "* Z katalogu w którym znajduje się główny moduł. Czyli jeśli mam w katalogu dwa pliki ``foo.py`` oraz ``bar.py`` i wywołam `python foo.py` to plik ten będzie mógł wykonać ``import bar``. \n",
    "* Z katalogów znajdujących się w zmiennej ``PYTHONPATH``. Katalogi w tej zmiennej przeszukiwane są po kolei. "
   ]
  },
  {
   "cell_type": "markdown",
   "metadata": {
    "slideshow": {
     "slide_type": "slide"
    }
   },
   "source": [
    "## Deklaracja kodawania"
   ]
  },
  {
   "cell_type": "markdown",
   "metadata": {
    "slideshow": {
     "slide_type": "fragment"
    }
   },
   "source": [
    "Pliki źródłowe Pythona są plikami w tekstowymi i jako takie mogą być zapisane w dowolnym kodowaniu. \n",
    "By wyspecyfikować kodowanie pliku źródłowego można posłużyć się komentarzem: \n",
    "    \n",
    "    \n",
    "     # -*- coding: utf-8 -*-\n",
    "     \n",
    "Musi on być pierwszą lub drugą linią pliku     "
   ]
  },
  {
   "cell_type": "markdown",
   "metadata": {
    "slideshow": {
     "slide_type": "slide"
    }
   },
   "source": [
    "## Paczki"
   ]
  },
  {
   "cell_type": "markdown",
   "metadata": {
    "slideshow": {
     "slide_type": "fragment"
    }
   },
   "source": [
    "Paczka jest zgrupwaniem modułów, moduły te **w zasadzie** nie są w żaden sposób powiązane silniej niż gdyby nie były w jednej paczce. \n",
    "\n",
    "Powiedzmy że chcę zrobić paczkę zawierającą narzędzia do generowania różnych matematycznych serii. \n",
    "\n",
    "Paczka wygląda tak: "
   ]
  },
  {
   "cell_type": "code",
   "execution_count": 25,
   "metadata": {
    "collapsed": false,
    "slideshow": {
     "slide_type": "fragment"
    }
   },
   "outputs": [
    {
     "name": "stderr",
     "output_type": "stream",
     "text": [
      "bash: line 2: tree: command not found\n"
     ]
    }
   ],
   "source": [
    "%%bash \n",
    "\n",
    "tree series"
   ]
  },
  {
   "cell_type": "markdown",
   "metadata": {
    "slideshow": {
     "slide_type": "slide"
    }
   },
   "source": [
    "## Zawartość pliku ``_utils.py``"
   ]
  },
  {
   "cell_type": "code",
   "execution_count": null,
   "metadata": {
    "collapsed": false,
    "slideshow": {
     "slide_type": "fragment"
    }
   },
   "outputs": [],
   "source": [
    "# -*- coding: utf-8 -*-\n",
    "\n",
    "class AbstractSeries(object):\n",
    "\n",
    "    def _series_generator(self):\n",
    "        pass\n",
    "\n",
    "    def get_series_element(self, N):\n",
    "        assert N > 0\n",
    "        for ii, element in zip(range(N), self._series_generator()):\n",
    "            pass\n",
    "        return element\n",
    "\n",
    "    def get_series_elements_less_than(self, x):\n",
    "        result = []\n",
    "\n",
    "        for elem in self._series_generator():\n",
    "            if elem > x:\n",
    "                break\n",
    "            result.append(elem)\n",
    "\n",
    "        return result\n",
    "\n",
    "    def get_n_series_elements(self, N):\n",
    "        result = []\n",
    "\n",
    "        for ii, element in zip(range(N), self._series_generator()):\n",
    "            result.append(element)\n",
    "\n",
    "        return result"
   ]
  },
  {
   "cell_type": "markdown",
   "metadata": {
    "slideshow": {
     "slide_type": "slide"
    }
   },
   "source": [
    "## Zawartość pliku ``_fibonacci.py``"
   ]
  },
  {
   "cell_type": "markdown",
   "metadata": {
    "slideshow": {
     "slide_type": "fragment"
    }
   },
   "source": [
    "    # -*- coding: utf-8 -*-\n",
    "\n",
    "    from . import _utils # Zwróćie uwagę na relatywny import!\n",
    "\n",
    "\n",
    "    class Fibonacci(_utils.AbstractSeries):\n",
    "         def _series_generator(self):\n",
    "            a, b = 0, 1\n",
    "            while True:\n",
    "                a, b = b, a + b\n",
    "                yield b"
   ]
  },
  {
   "cell_type": "markdown",
   "metadata": {
    "slideshow": {
     "slide_type": "slide"
    }
   },
   "source": [
    "## Importy a paczki"
   ]
  },
  {
   "cell_type": "markdown",
   "metadata": {
    "slideshow": {
     "slide_type": "fragment"
    }
   },
   "source": [
    "Instrukcje import wymagają podania absolutnej nazwy modułu który importujemy\n",
    "\n",
    "`from series import _utils`\n",
    "\n",
    "`from series._utils import AbstractSeries`    "
   ]
  },
  {
   "cell_type": "markdown",
   "metadata": {
    "slideshow": {
     "slide_type": "fragment"
    }
   },
   "source": [
    "Możliwe są importy relatywne do aktualnego modułu: \n",
    "\n",
    "`from . import _utils # Z tego samego katalogu`\n",
    "\n",
    "`from .. import fib # Z katalogu wyżej`"
   ]
  },
  {
   "cell_type": "markdown",
   "metadata": {
    "slideshow": {
     "slide_type": "slide"
    }
   },
   "source": [
    "## Import as"
   ]
  },
  {
   "cell_type": "markdown",
   "metadata": {
    "slideshow": {
     "slide_type": "fragment"
    }
   },
   "source": [
    "Możliwe jest przezwanie zaimportowanego obiektu np: "
   ]
  },
  {
   "cell_type": "code",
   "execution_count": null,
   "metadata": {
    "collapsed": false,
    "slideshow": {
     "slide_type": "fragment"
    }
   },
   "outputs": [],
   "source": [
    "from fib import fib as fibonacci"
   ]
  },
  {
   "cell_type": "code",
   "execution_count": null,
   "metadata": {
    "collapsed": false,
    "slideshow": {
     "slide_type": "fragment"
    }
   },
   "outputs": [],
   "source": [
    "fibonacci(10)"
   ]
  },
  {
   "cell_type": "markdown",
   "metadata": {
    "slideshow": {
     "slide_type": "slide"
    }
   },
   "source": [
    "## Problemy z importami"
   ]
  },
  {
   "cell_type": "markdown",
   "metadata": {
    "slideshow": {
     "slide_type": "fragment"
    }
   },
   "source": [
    "Tutaj wchodzimy ta taki trochę bagnisty grunt. Rozważmy taką strukturę katalogów "
   ]
  },
  {
   "cell_type": "markdown",
   "metadata": {
    "slideshow": {
     "slide_type": "fragment"
    }
   },
   "source": [
    "Generalnie instrukcja \n",
    "\n",
    "    import foo\n",
    "    \n",
    "importuje moduł w sposób absolutny jeśli mamy taki układ paczek: \n",
    "\n",
    "* `foo.py`\n",
    " * Zawartością tego pliku jest: `print('foo')`\n",
    "* `main.py`\n",
    " * Zawartością tego pliku jest: `from bar import baz`\n",
    "* `bar`\n",
    " * `__init__.py`\n",
    " * `foo.py`\n",
    "  * Zawartością tego pliku jest: `print('Gotha!')`\n",
    " * `baz.py`\n",
    "  * Zawartością tego pliku jest `import foo`\n",
    " "
   ]
  },
  {
   "cell_type": "markdown",
   "metadata": {
    "slideshow": {
     "slide_type": "fragment"
    }
   },
   "source": [
    "Polecenie `python main.py` spowoduje wyświetlenie napisu `foo`, natomiast polecenie `python bar/baz.py` spowoduje wyświetlenie `Gotha!`"
   ]
  },
  {
   "cell_type": "markdown",
   "metadata": {
    "slideshow": {
     "slide_type": "slide"
    }
   },
   "source": [
    "## Circular imports"
   ]
  },
  {
   "cell_type": "markdown",
   "metadata": {
    "slideshow": {
     "slide_type": "fragment"
    }
   },
   "source": [
    "Powiedzmy że mamy taką paczke:"
   ]
  },
  {
   "cell_type": "code",
   "execution_count": null,
   "metadata": {
    "collapsed": false,
    "slideshow": {
     "slide_type": "skip"
    }
   },
   "outputs": [],
   "source": [
    "%%bash\n",
    "rm -rf recursive_import/__pycache__\n",
    "rm recursive_import/*pyc"
   ]
  },
  {
   "cell_type": "code",
   "execution_count": null,
   "metadata": {
    "collapsed": false,
    "slideshow": {
     "slide_type": "fragment"
    }
   },
   "outputs": [],
   "source": [
    "%%bash \n",
    "\n",
    "tree recursive_import"
   ]
  },
  {
   "cell_type": "code",
   "execution_count": null,
   "metadata": {
    "collapsed": false,
    "slideshow": {
     "slide_type": "fragment"
    }
   },
   "outputs": [],
   "source": [
    "%%bash \n",
    "cat recursive_import/rec_a.py"
   ]
  },
  {
   "cell_type": "code",
   "execution_count": null,
   "metadata": {
    "collapsed": false,
    "slideshow": {
     "slide_type": "fragment"
    }
   },
   "outputs": [],
   "source": [
    "%%bash \n",
    "cat recursive_import/rec_b.py"
   ]
  },
  {
   "cell_type": "markdown",
   "metadata": {
    "slideshow": {
     "slide_type": "fragment"
    }
   },
   "source": [
    "Moduły te wzajemnie się importują. W zasadzie nie jest to problem, ale..."
   ]
  },
  {
   "cell_type": "code",
   "execution_count": null,
   "metadata": {
    "collapsed": false,
    "slideshow": {
     "slide_type": "fragment"
    }
   },
   "outputs": [],
   "source": [
    "%%bash \n",
    "\n",
    "python -c 'import recursive_import.rec_a'"
   ]
  },
  {
   "cell_type": "code",
   "execution_count": null,
   "metadata": {
    "collapsed": false,
    "slideshow": {
     "slide_type": "fragment"
    }
   },
   "outputs": [],
   "source": [
    "%%bash \n",
    "\n",
    "python -c 'import recursive_import.rec_b'"
   ]
  },
  {
   "cell_type": "markdown",
   "metadata": {
    "slideshow": {
     "slide_type": "slide"
    }
   },
   "source": [
    "## Circular imports"
   ]
  },
  {
   "cell_type": "markdown",
   "metadata": {
    "slideshow": {
     "slide_type": "fragment"
    }
   },
   "source": [
    "Jak sobie z tym radzić? "
   ]
  },
  {
   "cell_type": "markdown",
   "metadata": {
    "slideshow": {
     "slide_type": "fragment"
    }
   },
   "source": [
    "* Nie tworzyć cyklicznych odwołań przy importowaniu, jest to znak **jakichś** problemów z kodem. "
   ]
  },
  {
   "cell_type": "markdown",
   "metadata": {
    "slideshow": {
     "slide_type": "fragment"
    }
   },
   "source": [
    "* Czasem można zaimportować odpowiednie symbole wewnątrz funkcji (jeśli nie są często używane)"
   ]
  },
  {
   "cell_type": "markdown",
   "metadata": {
    "slideshow": {
     "slide_type": "fragment"
    }
   },
   "source": [
    "* Są też inne narzędzia"
   ]
  },
  {
   "cell_type": "markdown",
   "metadata": {
    "slideshow": {
     "slide_type": "slide"
    }
   },
   "source": [
    "## Funkcja main"
   ]
  },
  {
   "cell_type": "markdown",
   "metadata": {
    "slideshow": {
     "slide_type": "fragment"
    }
   },
   "source": [
    "* Generalnie w Pythonie nie ma czegoś takiego jak funkcja ``main``\n",
    "* Cały kod który zawarty jest w module zostanie wykonany kiedy wykonamy (``python module``) lub zaimportujemy (``import module``) moduł. \n",
    "* Czasem nie chcemy wykonywać części kodu podczas importu. "
   ]
  },
  {
   "cell_type": "code",
   "execution_count": null,
   "metadata": {
    "collapsed": false,
    "slideshow": {
     "slide_type": "fragment"
    }
   },
   "outputs": [],
   "source": [
    "def main(): \n",
    "    print(\"Hello World!\")\n",
    "if __name__ == \"__main__\": \n",
    "    main()"
   ]
  }
 ],
 "metadata": {
  "celltoolbar": "Slideshow",
  "kernelspec": {
   "display_name": "Python 3",
   "language": "python",
   "name": "python3"
  },
  "language_info": {
   "codemirror_mode": {
    "name": "ipython",
    "version": 3
   },
   "file_extension": ".py",
   "mimetype": "text/x-python",
   "name": "python",
   "nbconvert_exporter": "python",
   "pygments_lexer": "ipython3",
   "version": "3.5.0"
  }
 },
 "nbformat": 4,
 "nbformat_minor": 0
}
