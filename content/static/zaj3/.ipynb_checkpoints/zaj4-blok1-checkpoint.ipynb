{
 "metadata": {
  "celltoolbar": "Slideshow",
  "name": "",
  "signature": "sha256:9f55cc6c10194fda425560b3d7f7fb52a26259ceeec9d3ed5581e3e75287f80e"
 },
 "nbformat": 3,
 "nbformat_minor": 0,
 "worksheets": [
  {
   "cells": [
    {
     "cell_type": "heading",
     "level": 1,
     "metadata": {},
     "source": [
      "Instalacja oprogramowania w pythonie"
     ]
    },
    {
     "cell_type": "heading",
     "level": 2,
     "metadata": {},
     "source": [
      "D\u0142uga dygresja o ABI "
     ]
    },
    {
     "cell_type": "markdown",
     "metadata": {},
     "source": [
      "Wyja\u015bnienie: \n",
      "\n",
      "* API (*Application Programming Interface*): Definicja funkcji, metod, typ\u00f3w modu\u0142u jakiego\u015b\u00a0modu\u0142u, do kt\u00f3rej musi stosowa\u0107 si\u0119 **kod \u017ar\u00f3d\u0142owy** innych modyu\u0142\u00f3w by modu\u0142y te mog\u0142y wsp\u00f3\u0142pracowa\u0107. \n",
      "* ABI (*Application Binary Interface*): Definicje funkcji, metod, typ\u00f3w, format wywo\u0142ania funkcji, jakiego\u015b modu\u0142u do kt\u00f3rej musi stosowa\u0107 si\u0119\u00a0**skompilowany kod** innych modu\u0142\u00f3w by modu\u0142y te mog\u0142y wsp\u00f3\u0142pracowa\u0107.\n",
      "\n",
      "ABI jest problemem tylko przy tworzeniu bibliotek w j\u0119zykach kompilowanych (C/C++/...). W Javie/Pythonie ten problem nie istnieje na poziomie maszyny wirtualnej. "
     ]
    },
    {
     "cell_type": "markdown",
     "metadata": {},
     "source": [
      "API i ABI s\u0105\u00a0od siebie niezale\u017cne program o tym samym API skompilowany pod windowsem b\u0119dzie mia\u0142 inne ABI ni\u017c skompilowany pod linuksem. Dwie wersje biblioteki o tym samym API mog\u0105\u00a0mie\u0107 inne ABI. "
     ]
    },
    {
     "cell_type": "code",
     "collapsed": false,
     "input": [
      "%%cpp\n",
      "\n",
      "#include <iostream>\n",
      "#include <cstdint>\n",
      "// Struktura foo nale\u017cy do biblioteki foo w wersji 1.0\n",
      "struct foo{\n",
      "    uint16_t a;\n",
      "};\n",
      "\n",
      "// Moja funkcja kt\u00f3ra z niej korzysta\n",
      "int unpack_foo(foo arg){\n",
      "    return arg.a;\n",
      "}\n",
      "\n",
      "int main(){\n",
      "    foo f = {1};\n",
      "    std::cout << unpack_foo(f);\n",
      "}"
     ],
     "language": "python",
     "metadata": {},
     "outputs": [
      {
       "output_type": "stream",
       "stream": "stdout",
       "text": [
        "b'1'\n"
       ]
      }
     ],
     "prompt_number": 64
    },
    {
     "cell_type": "code",
     "collapsed": false,
     "input": [
      "%%cpp\n",
      "\n",
      "#include <iostream>\n",
      "#include <cstdint>\n",
      "// Struktura foo nale\u017cy do biblioteki foo w wersji 2.0\n",
      "struct foo{\n",
      "    uint16_t a, b;\n",
      "};\n",
      "\n",
      "int unpack_foo(foo arg){\n",
      "    return arg.a;\n",
      "}\n",
      "\n",
      "int main(){\n",
      "    foo f = {1};\n",
      "    std::cout << unpack_foo(f);\n",
      "}"
     ],
     "language": "python",
     "metadata": {},
     "outputs": [
      {
       "output_type": "stream",
       "stream": "stdout",
       "text": [
        "b'1'\n"
       ]
      }
     ],
     "prompt_number": 65
    },
    {
     "cell_type": "markdown",
     "metadata": {},
     "source": [
      "Zauwa\u017cmy \u017ce API struktury foo si\u0119 nie zmieni\u0142o. M\u00f3j stary program po dodaniu nowego pola do struktury foo, poprawnie si\u0119\u00a0kompiluje.\n",
      "\n",
      "Problemy zaczynaj\u0105 si\u0119 kiedy zar\u00f3wno m\u00f3j program jak i biblioteka foo s\u0105 skompilowane a m\u00f3j program zosta\u0142 skompilowany przy u\u017cyciu starej wersji biblioteki! \n",
      "\n",
      "Dlaczego? "
     ]
    },
    {
     "cell_type": "markdown",
     "metadata": {},
     "source": [
      "Poniewa\u017c\u00a0**rozmiar struktury jest cz\u0119\u015bci\u0105 ABI**. U\u017cytkownik biblioteki musi m\u00f3c np. zdefiniowa\u0107 tablic\u0119 10 struktur foo, w wersji 1.0 tablica ta b\u0119dzie mia\u0142a rozmiar 20 bajt\u00f3w a w wersji 2.0: 40 bajt\u00f3w. \n",
      "\n",
      "Tablica ta mo\u017ce istnie\u0107 **na stosie** wi\u0119c jej d\u0142ugo\u015b\u0107 musi by\u0107 znana podczas kompilacji. \n",
      "\n",
      "Dodatkowo do przekazania struktury (jako parametru) do funkcji trzeba zna\u0107 jej rozmiar."
     ]
    },
    {
     "cell_type": "heading",
     "level": 2,
     "metadata": {},
     "source": [
      "Utrzymywanie kompatybilno\u015bci ABI"
     ]
    },
    {
     "cell_type": "markdown",
     "metadata": {},
     "source": [
      "Utrzymywanie kompatybilno\u015bci ABI jest uci\u0105\u017cliwe i bardzo utrudnia rozw\u00f3j biblioteki. Podej\u015bcie do kompatybilno\u015bci ABI bardzo zale\u017cy od wielu czynnik\u00f3w, ale zasadniczo projekty open-source (poza wyj\u0105tkami) stwierdzaj\u0105 \u017ce utrzymywanie kompatyblino\u015bci ABI jest zbyt kosztowne, szczeg\u00f3lnie \u017ce ka\u017cdy mo\u017ce sobie skompilowa\u0107 kod"
     ]
    },
    {
     "cell_type": "markdown",
     "metadata": {},
     "source": [
      "Przyk\u0142ady:\n",
      "    \n",
      "* Tw\u00f3rcy bibliotek standardowych C/C++ staraj\u0105\u00a0si\u0119 utrzymywa\u0107\u00a0ABI program\u00f3w skompilowanych r\u00f3\u017cnymi wersjami. \n",
      "* J\u0105dro Linuksa trzyma ABI wywo\u0142a\u0144\u00a0systemowych (czyli program skompilowany dla j\u0105dra 3.0 powinien dzia\u0142a\u0107\u00a0i dzi\u015b). \n",
      "* J\u0105dno Linuksa nie trzyma ABI modu\u0142\u00f3w j\u0105dra (czyli w\u0142asno\u015bciowe sterowniki nVidii skompilowane pod j\u0105dro 3.14 nie b\u0119d\u0105 dzia\u0107\u00a0pod 3.15 --- jest to g\u0142\u00f3wny problem ze wspomaganiem 3D na Linuksie...). \n",
      "* **Python** nie trzyma ABI swoich interfejs\u00f3w C, poza bardzo ograniczonym [Stable ABI][1] wprowadzonym do\u015b\u0107 niedawno. Niestety stable ABI jest zbyt \"okrojone\" by Numpy m\u00f3g\u0142 z niego korzysta\u0107. \n",
      "\n",
      "[1]: https://www.python.org/dev/peps/pep-0384/"
     ]
    },
    {
     "cell_type": "heading",
     "level": 2,
     "metadata": {},
     "source": [
      "Wirtualne \u015brodowisko"
     ]
    },
    {
     "cell_type": "markdown",
     "metadata": {},
     "source": [
      "Wirtualne \u015brodowisko to: izolowany interpreter pythona, kt\u00f3ry pozwala pracowa\u0107\u00a0nad projektem bez martwienia si\u0119 o interakcje z innymi projektami.\n",
      "\n",
      "Wirtualne \u015brodowisko sk\u0142ada si\u0119 z: \n",
      "    \n",
      "* Linku do Interpretera Pythona \n",
      "* Zainstalowanych paczek Pythona \n",
      "* Skompilowanego kodu C \u0142\u0105cz\u0105czego si\u0119\u00a0z Pythonem"
     ]
    },
    {
     "cell_type": "markdown",
     "metadata": {},
     "source": [
      "Zach\u0119cam do pracy z pythonem w taki spos\u00f3b: \n",
      "\n",
      "* Kompilujecie interpreter pythona \n",
      "* Tworzycie wirtualne \u015brodowisko dla ka\u017cego projektu\n",
      "* W ka\u017cdym projekcie instalujecie oddzielne paczki\n",
      "\n",
      "Procedura ta wyklarowa\u0142a mi si\u0119 po czterech latach pracowania nad d\u0142ugo\u017cyj\u0105cymi projektami :) \n",
      "\n",
      "Ma ona jedn\u0105 zasadnicz\u0105 wad\u0119: zu\u017cywa miejsce na dysku. "
     ]
    },
    {
     "cell_type": "code",
     "collapsed": false,
     "input": [
      "%%bash \n",
      "\n",
      "find $HOME -name \"python\" | wc -l #Ilo\u015b\u0107 interpreter\u00f3w Pythona kt\u00f3re mam w /home\n",
      "# W ramach ciekawostek w zesz\u0142ym roku by\u0142o ich 72"
     ],
     "language": "python",
     "metadata": {},
     "outputs": [
      {
       "output_type": "stream",
       "stream": "stdout",
       "text": [
        "110\n"
       ]
      },
      {
       "output_type": "stream",
       "stream": "stderr",
       "text": [
        "find: `/home/jb/programs/kaskadypy/.git/hooks': Permission denied\n"
       ]
      }
     ],
     "prompt_number": 2
    },
    {
     "cell_type": "markdown",
     "metadata": {},
     "source": [
      "S\u0105 takie alternatywne procedury: \n",
      "\n",
      "* U\u017cywa\u0107\u00a0Pythona i ca\u0142ego oprogramowania z systemowych paczek na Linuksie. \n",
      "\n",
      "  Jest to problem poniewa\u017c\u00a0wasz program mo\u017ce dzia\u0142a\u0107 na Django-1.8 a tw\u00f3rca systemu mo\u017ce nagle postanowi\u0107\u00a0zainstalowa\u0107\u00a02.0 kt\u00f3re ma powa\u017cne zmiany w API.\n",
      "  \n",
      "* U\u017cywa\u0107 wirtualnego \u015brodowiska z pythonem systemowym. \n",
      "\n",
      "  Paczki mog\u0105 przesta\u0107\u00a0dzia\u0142a\u0107\u00a0je\u015bli wasz system zmieni wersj\u0119\u00a0pythona (np. z 3.4.1 na 3.4.2) co zmieni ABI kodu C w pythonie i paczki przestan\u0105\u00a0dzia\u0142a\u0107 (powoduje to konieczno\u015b\u0107 rekompilacji \u015brodowiska wirtualneg)\n",
      "  \n",
      "* U\u017cywa\u0107 jednego zainstalowanego przez Was interpretera i wirtualnego \u015brodowiska w kilku projektach. \n",
      "\n",
      "  Zasadniczo mo\u017ce mie\u0107 t\u0105\u00a0wad\u0119\u00a0\u017ce instaluj\u0105c paczki do projektu A zepsujecie projekt B. "
     ]
    },
    {
     "cell_type": "heading",
     "level": 1,
     "metadata": {},
     "source": [
      "Kompilacja Pythona "
     ]
    },
    {
     "cell_type": "markdown",
     "metadata": {},
     "source": [
      "Najpierw nale\u017cy pobra\u0107\u00a0i wypakowa\u0107 Pythona: "
     ]
    },
    {
     "cell_type": "code",
     "collapsed": false,
     "input": [
      "%%capture \n",
      "%%bash \n",
      "\n",
      "cd /tmp \n",
      "rm -rf pyth-example\n",
      "mkdir pyth-example\n",
      "cd pyth-example\n",
      "wget https://www.python.org/ftp/python/3.4.2/Python-3.4.2.tgz\n",
      "tar -xaf Python-3.4.2.tgz"
     ],
     "language": "python",
     "metadata": {},
     "outputs": [],
     "prompt_number": 80
    },
    {
     "cell_type": "markdown",
     "metadata": {},
     "source": [
      "Dobrym pomys\u0142em jest zainstalowanie zale\u017cno\u015bci interpretera: http://db.fizyka.pw.edu.pl/pwzn/kompilacja-pythona.html. "
     ]
    },
    {
     "cell_type": "markdown",
     "metadata": {},
     "source": [
      "Polecenie ``./configure`` konfiguruje kompilacj\u0119 pythona, ma du\u017co fajnych opcji (polecam ``configure --help``). Najwa\u017cniejsz\u0105\u00a0rzecz\u0105 jest skonfigurowanie katalogu **do kt\u00f3rego** instalujecie Python, s\u0142u\u017cy do tego opcja ``--prefix``. \n",
      "\n",
      "Nast\u0119pnie nale\u017cy zbudowa\u0107 i zainstalowa\u0107 projekt. "
     ]
    },
    {
     "cell_type": "code",
     "collapsed": false,
     "input": [
      "%%capture \n",
      "%%bash\n",
      "\n",
      "cd /tmp/pyth-example \n",
      "cd Python-3.4.2\n",
      "./configure --prefix /tmp/pyth-example/python-installed \n",
      "make -j8 \n",
      "make install"
     ],
     "language": "python",
     "metadata": {},
     "outputs": [],
     "prompt_number": 76
    },
    {
     "cell_type": "code",
     "collapsed": false,
     "input": [
      "%%bash \n",
      "\n",
      "/tmp/pyth-example/python-installed/bin/python3 -c \"import datetime; print(datetime.datetime.now())\""
     ],
     "language": "python",
     "metadata": {},
     "outputs": [
      {
       "output_type": "stream",
       "stream": "stdout",
       "text": [
        "2014-11-13 21:36:37.451090\n"
       ]
      }
     ],
     "prompt_number": 69
    },
    {
     "cell_type": "heading",
     "level": 1,
     "metadata": {},
     "source": [
      "Na Windowsie"
     ]
    },
    {
     "cell_type": "markdown",
     "metadata": {},
     "source": [
      "Na windowsie pobierzcie Pythona 3.5.0: https://www.python.org/downloads/ i zainstalujcie. "
     ]
    },
    {
     "cell_type": "heading",
     "level": 2,
     "metadata": {},
     "source": [
      "Stworzenie wirtualnego \u015brodowiska"
     ]
    },
    {
     "cell_type": "markdown",
     "metadata": {},
     "source": [
      "By stworzy\u0107 wirtualne \u015brodowisko nale\u017cy wywo\u0142a\u0107\u00a0polecenie pyvenv przyjmuje ono nazw\u0119 katalogu w kt\u00f3rym istnie\u0107\u00a0b\u0119dzie \u015brodowisko"
     ]
    },
    {
     "cell_type": "code",
     "collapsed": false,
     "input": [
      "%%capture \n",
      "%%bash \n",
      "\n",
      "cd /tmp/pyth-example\n",
      "python-installed/bin/pyvenv venv\n",
      "\n",
      "ls venv \n",
      "echo \n",
      "echo \"Zawarto\u015b\u0107 lib\"\n",
      "echo \n",
      "ls venv/lib/python3.4/site-packages"
     ],
     "language": "python",
     "metadata": {},
     "outputs": [],
     "prompt_number": 4
    },
    {
     "cell_type": "heading",
     "level": 2,
     "metadata": {},
     "source": [
      "W\u0142\u0105czenie wirtualnego \u015brodowiska"
     ]
    },
    {
     "cell_type": "markdown",
     "metadata": {},
     "source": [
      "Polecenie ``source plik`` jest odpowiednikiem wykonanie polece\u0144 z tego pliku w aktualnej konsoli. Do aktywowania \u015brodowiska wirtualengo Pythona s\u0142u\u017cy skrypt bin/activate. \n",
      "\n",
      "Po aktywacji \u015brodowiska w danej konsoli u\u017cywany jest Python z danego \u015brodowiska z paczkami zainstalowanymi do tego \u015brodowiska. "
     ]
    },
    {
     "cell_type": "code",
     "collapsed": false,
     "input": [
      "%%capture \n",
      "%%bash \n",
      "\n",
      "cd /tmp/pyth-example\n",
      "source venv/bin/activate \n",
      "\n",
      "which python"
     ],
     "language": "python",
     "metadata": {},
     "outputs": [],
     "prompt_number": 5
    },
    {
     "cell_type": "markdown",
     "metadata": {},
     "source": [
      "## Na Windowsie "
     ]
    },
    {
     "cell_type": "markdown",
     "metadata": {},
     "source": [
      "Uruchomi\u0107: \n",
      "\n",
      "* W PowerShell: /Scripts/Activate.ps1\n",
      "* W CMD: /Scripts/activate.bat"
     ]
    }
   ],
   "metadata": {}
  }
 ]
}