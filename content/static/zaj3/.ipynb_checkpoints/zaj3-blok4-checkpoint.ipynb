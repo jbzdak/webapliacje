{
 "cells": [
  {
   "cell_type": "markdown",
   "metadata": {},
   "source": [
    "# Instalacja oprogramowania w pythonie"
   ]
  },
  {
   "cell_type": "markdown",
   "metadata": {},
   "source": [
    "## Długa dygresja o ABI "
   ]
  },
  {
   "cell_type": "markdown",
   "metadata": {},
   "source": [
    "Wyjaśnienie: \n",
    "\n",
    "* API (*Application Programming Interface*): Definicja funkcji, metod, typów modułu jakiegoś modułu, do której musi stosować się **kod źródłowy** innych modyułów by moduły te mogły współpracować. \n",
    "* ABI (*Application Binary Interface*): Definicje funkcji, metod, typów, format wywołania funkcji, jakiegoś modułu do której musi stosować się **skompilowany kod** innych modułów by moduły te mogły współpracować.\n",
    "\n",
    "ABI jest problemem tylko przy tworzeniu bibliotek w językach kompilowanych (C/C++/...). W Javie/Pythonie ten problem nie istnieje na poziomie maszyny wirtualnej. "
   ]
  },
  {
   "cell_type": "markdown",
   "metadata": {},
   "source": [
    "API i ABI są od siebie niezależne program o tym samym API skompilowany pod windowsem będzie miał inne ABI niż skompilowany pod linuksem. Dwie wersje biblioteki o tym samym API mogą mieć inne ABI. "
   ]
  },
  {
   "cell_type": "code",
   "execution_count": 64,
   "metadata": {
    "collapsed": false
   },
   "outputs": [
    {
     "name": "stdout",
     "output_type": "stream",
     "text": [
      "b'1'\n"
     ]
    }
   ],
   "source": [
    "%%cpp\n",
    "\n",
    "#include <iostream>\n",
    "#include <cstdint>\n",
    "// Struktura foo należy do biblioteki foo w wersji 1.0\n",
    "struct foo{\n",
    "    uint16_t a;\n",
    "};\n",
    "\n",
    "// Moja funkcja która z niej korzysta\n",
    "int unpack_foo(foo arg){\n",
    "    return arg.a;\n",
    "}\n",
    "\n",
    "int main(){\n",
    "    foo f = {1};\n",
    "    std::cout << unpack_foo(f);\n",
    "}"
   ]
  },
  {
   "cell_type": "code",
   "execution_count": 65,
   "metadata": {
    "collapsed": false
   },
   "outputs": [
    {
     "name": "stdout",
     "output_type": "stream",
     "text": [
      "b'1'\n"
     ]
    }
   ],
   "source": [
    "%%cpp\n",
    "\n",
    "#include <iostream>\n",
    "#include <cstdint>\n",
    "// Struktura foo należy do biblioteki foo w wersji 2.0\n",
    "struct foo{\n",
    "    uint16_t a, b;\n",
    "};\n",
    "\n",
    "int unpack_foo(foo arg){\n",
    "    return arg.a;\n",
    "}\n",
    "\n",
    "int main(){\n",
    "    foo f = {1};\n",
    "    std::cout << unpack_foo(f);\n",
    "}"
   ]
  },
  {
   "cell_type": "markdown",
   "metadata": {},
   "source": [
    "Zauważmy że API struktury foo się nie zmieniło. Mój stary program po dodaniu nowego pola do struktury foo, poprawnie się kompiluje.\n",
    "\n",
    "Problemy zaczynają się kiedy zarówno mój program jak i biblioteka foo są skompilowane a mój program został skompilowany przy użyciu starej wersji biblioteki! \n",
    "\n",
    "Dlaczego? "
   ]
  },
  {
   "cell_type": "markdown",
   "metadata": {},
   "source": [
    "Ponieważ **rozmiar struktury jest częścią ABI**. Użytkownik biblioteki musi móc np. zdefiniować tablicę 10 struktur foo, w wersji 1.0 tablica ta będzie miała rozmiar 20 bajtów a w wersji 2.0: 40 bajtów. \n",
    "\n",
    "Tablica ta może istnieć **na stosie** więc jej długość musi być znana podczas kompilacji. \n",
    "\n",
    "Dodatkowo do przekazania struktury (jako parametru) do funkcji trzeba znać jej rozmiar."
   ]
  },
  {
   "cell_type": "markdown",
   "metadata": {},
   "source": [
    "## Utrzymywanie kompatybilności ABI"
   ]
  },
  {
   "cell_type": "markdown",
   "metadata": {},
   "source": [
    "Utrzymywanie kompatybilności ABI jest uciążliwe i bardzo utrudnia rozwój biblioteki. Podejście do kompatybilności ABI bardzo zależy od wielu czynników, ale zasadniczo projekty open-source (poza wyjątkami) stwierdzają że utrzymywanie kompatybliności ABI jest zbyt kosztowne, szczególnie że każdy może sobie skompilować kod"
   ]
  },
  {
   "cell_type": "markdown",
   "metadata": {},
   "source": [
    "Przykłady:\n",
    "    \n",
    "* Twórcy bibliotek standardowych C/C++ starają się utrzymywać ABI programów skompilowanych różnymi wersjami. \n",
    "* Jądro Linuksa trzyma ABI wywołań systemowych (czyli program skompilowany dla jądra 3.0 powinien działać i dziś). \n",
    "* Jądno Linuksa nie trzyma ABI modułów jądra (czyli własnościowe sterowniki nVidii skompilowane pod jądro 3.14 nie będą dziać pod 3.15 --- jest to główny problem ze wspomaganiem 3D na Linuksie...). \n",
    "* **Python** nie trzyma ABI swoich interfejsów C, poza bardzo ograniczonym [Stable ABI][1] wprowadzonym dość niedawno. Niestety stable ABI jest zbyt \"okrojone\" by Numpy mógł z niego korzystać. \n",
    "\n",
    "[1]: https://www.python.org/dev/peps/pep-0384/"
   ]
  },
  {
   "cell_type": "markdown",
   "metadata": {},
   "source": [
    "## Wirtualne środowisko"
   ]
  },
  {
   "cell_type": "markdown",
   "metadata": {},
   "source": [
    "Wirtualne środowisko to: izolowany interpreter pythona, który pozwala pracować nad projektem bez martwienia się o interakcje z innymi projektami.\n",
    "\n",
    "Wirtualne środowisko składa się z: \n",
    "    \n",
    "* Linku do Interpretera Pythona \n",
    "* Zainstalowanych paczek Pythona \n",
    "* Skompilowanego kodu C łączączego się z Pythonem"
   ]
  },
  {
   "cell_type": "markdown",
   "metadata": {},
   "source": [
    "Zachęcam do pracy z pythonem w taki sposób: \n",
    "\n",
    "* Kompilujecie interpreter pythona \n",
    "* Tworzycie wirtualne środowisko dla każego projektu\n",
    "* W każdym projekcie instalujecie oddzielne paczki\n",
    "\n",
    "Procedura ta wyklarowała mi się po czterech latach pracowania nad długożyjącymi projektami :) \n",
    "\n",
    "Ma ona jedną zasadniczą wadę: zużywa miejsce na dysku. "
   ]
  },
  {
   "cell_type": "code",
   "execution_count": 2,
   "metadata": {
    "collapsed": false
   },
   "outputs": [
    {
     "name": "stdout",
     "output_type": "stream",
     "text": [
      "110\n"
     ]
    },
    {
     "name": "stderr",
     "output_type": "stream",
     "text": [
      "find: `/home/jb/programs/kaskadypy/.git/hooks': Permission denied\n"
     ]
    }
   ],
   "source": [
    "%%bash \n",
    "\n",
    "find $HOME -name \"python\" | wc -l #Ilość interpreterów Pythona które mam w /home\n",
    "# W ramach ciekawostek w zeszłym roku było ich 72"
   ]
  },
  {
   "cell_type": "markdown",
   "metadata": {},
   "source": [
    "Są takie alternatywne procedury: \n",
    "\n",
    "* Używać Pythona i całego oprogramowania z systemowych paczek na Linuksie. \n",
    "\n",
    "  Jest to problem ponieważ wasz program może działać na Django-1.8 a twórca systemu może nagle postanowić zainstalować 2.0 które ma poważne zmiany w API.\n",
    "  \n",
    "* Używać wirtualnego środowiska z pythonem systemowym. \n",
    "\n",
    "  Paczki mogą przestać działać jeśli wasz system zmieni wersję pythona (np. z 3.4.1 na 3.4.2) co zmieni ABI kodu C w pythonie i paczki przestaną działać (powoduje to konieczność rekompilacji środowiska wirtualneg)\n",
    "  \n",
    "* Używać jednego zainstalowanego przez Was interpretera i wirtualnego środowiska w kilku projektach. \n",
    "\n",
    "  Zasadniczo może mieć tą wadę że instalując paczki do projektu A zepsujecie projekt B. "
   ]
  },
  {
   "cell_type": "markdown",
   "metadata": {},
   "source": [
    "# Kompilacja Pythona "
   ]
  },
  {
   "cell_type": "markdown",
   "metadata": {},
   "source": [
    "Najpierw należy pobrać i wypakować Pythona: "
   ]
  },
  {
   "cell_type": "code",
   "execution_count": 80,
   "metadata": {
    "collapsed": false
   },
   "outputs": [],
   "source": [
    "%%capture \n",
    "%%bash \n",
    "\n",
    "cd /tmp \n",
    "rm -rf pyth-example\n",
    "mkdir pyth-example\n",
    "cd pyth-example\n",
    "wget https://www.python.org/ftp/python/3.4.2/Python-3.4.2.tgz\n",
    "tar -xaf Python-3.4.2.tgz"
   ]
  },
  {
   "cell_type": "markdown",
   "metadata": {},
   "source": [
    "Dobrym pomysłem jest zainstalowanie zależności interpretera: http://db.fizyka.pw.edu.pl/pwzn/kompilacja-pythona.html. "
   ]
  },
  {
   "cell_type": "markdown",
   "metadata": {},
   "source": [
    "Polecenie ``./configure`` konfiguruje kompilację pythona, ma dużo fajnych opcji (polecam ``configure --help``). Najważniejszą rzeczą jest skonfigurowanie katalogu **do którego** instalujecie Python, służy do tego opcja ``--prefix``. \n",
    "\n",
    "Następnie należy zbudować i zainstalować projekt. "
   ]
  },
  {
   "cell_type": "code",
   "execution_count": 76,
   "metadata": {
    "collapsed": false
   },
   "outputs": [],
   "source": [
    "%%capture \n",
    "%%bash\n",
    "\n",
    "cd /tmp/pyth-example \n",
    "cd Python-3.4.2\n",
    "./configure --prefix /tmp/pyth-example/python-installed \n",
    "make -j8 \n",
    "make install"
   ]
  },
  {
   "cell_type": "code",
   "execution_count": 69,
   "metadata": {
    "collapsed": false
   },
   "outputs": [
    {
     "name": "stdout",
     "output_type": "stream",
     "text": [
      "2014-11-13 21:36:37.451090\n"
     ]
    }
   ],
   "source": [
    "%%bash \n",
    "\n",
    "/tmp/pyth-example/python-installed/bin/python3 -c \"import datetime; print(datetime.datetime.now())\""
   ]
  },
  {
   "cell_type": "markdown",
   "metadata": {},
   "source": [
    "# Na Windowsie"
   ]
  },
  {
   "cell_type": "markdown",
   "metadata": {},
   "source": [
    "Na windowsie pobierzcie Pythona 3.4.X: https://www.python.org/downloads/ i zainstalujcie. "
   ]
  },
  {
   "cell_type": "markdown",
   "metadata": {},
   "source": [
    "## Stworzenie wirtualnego środowiska"
   ]
  },
  {
   "cell_type": "markdown",
   "metadata": {},
   "source": [
    "By stworzyć wirtualne środowisko należy wywołać polecenie pyvenv przyjmuje ono nazwę katalogu w którym istnieć będzie środowisko"
   ]
  },
  {
   "cell_type": "code",
   "execution_count": 4,
   "metadata": {
    "collapsed": false
   },
   "outputs": [],
   "source": [
    "%%capture \n",
    "%%bash \n",
    "\n",
    "cd /tmp/pyth-example\n",
    "python-installed/bin/pyvenv venv\n",
    "\n",
    "ls venv \n",
    "echo \n",
    "echo \"Zawartość lib\"\n",
    "echo \n",
    "ls venv/lib/python3.4/site-packages"
   ]
  },
  {
   "cell_type": "markdown",
   "metadata": {},
   "source": [
    "## Włączenie wirtualnego środowiska"
   ]
  },
  {
   "cell_type": "markdown",
   "metadata": {},
   "source": [
    "Polecenie ``source plik`` jest odpowiednikiem wykonanie poleceń z tego pliku w aktualnej konsoli. Do aktywowania środowiska wirtualengo Pythona służy skrypt bin/activate. \n",
    "\n",
    "Po aktywacji środowiska w danej konsoli używany jest Python z danego środowiska z paczkami zainstalowanymi do tego środowiska. "
   ]
  },
  {
   "cell_type": "code",
   "execution_count": 5,
   "metadata": {
    "collapsed": false
   },
   "outputs": [],
   "source": [
    "%%capture \n",
    "%%bash \n",
    "\n",
    "cd /tmp/pyth-example\n",
    "source venv/bin/activate \n",
    "\n",
    "which python"
   ]
  },
  {
   "cell_type": "markdown",
   "metadata": {},
   "source": [
    "## Na Windowsie "
   ]
  },
  {
   "cell_type": "markdown",
   "metadata": {},
   "source": [
    "Uruchomić: \n",
    "\n",
    "* W PowerShell: /Scripts/Activate.ps1\n",
    "* W CMD: /Scripts/activate.bat"
   ]
  }
 ],
 "metadata": {
  "celltoolbar": "Slideshow",
  "kernelspec": {
   "display_name": "Python 3",
   "language": "python",
   "name": "python3"
  },
  "language_info": {
   "codemirror_mode": {
    "name": "ipython",
    "version": 3
   },
   "file_extension": ".py",
   "mimetype": "text/x-python",
   "name": "python",
   "nbconvert_exporter": "python",
   "pygments_lexer": "ipython3",
   "version": "3.5.0"
  }
 },
 "nbformat": 4,
 "nbformat_minor": 0
}
