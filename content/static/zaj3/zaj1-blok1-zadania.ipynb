{
 "metadata": {
  "name": "",
  "signature": "sha256:80ad70fb213d342cb89f2699c89788cc374fcbf77c5edf9c85fa9c41220cb498"
 },
 "nbformat": 3,
 "nbformat_minor": 0,
 "worksheets": [
  {
   "cells": [
    {
     "cell_type": "heading",
     "level": 1,
     "metadata": {},
     "source": [
      "Zadanie 1"
     ]
    },
    {
     "cell_type": "code",
     "collapsed": false,
     "input": [
      "#. Stw\u00f3rz list\u0119 100 zawieraj\u0105cych sto pierwszych dodatnich liczb naturalnych \n",
      "#. Policz sum\u0119 tych element\u00f3w"
     ],
     "language": "python",
     "metadata": {
      "slideshow": {
       "slide_type": "notes"
      }
     },
     "outputs": [],
     "prompt_number": 2
    },
    {
     "cell_type": "heading",
     "level": 4,
     "metadata": {},
     "source": [
      "Rozwi\u0105zanie dobre"
     ]
    },
    {
     "cell_type": "code",
     "collapsed": false,
     "input": [
      "res = list(range(1, 101))\n",
      "print(res)"
     ],
     "language": "python",
     "metadata": {},
     "outputs": [
      {
       "output_type": "stream",
       "stream": "stdout",
       "text": [
        "[1, 2, 3, 4, 5, 6, 7, 8, 9, 10, 11, 12, 13, 14, 15, 16, 17, 18, 19, 20, 21, 22, 23, 24, 25, 26, 27, 28, 29, 30, 31, 32, 33, 34, 35, 36, 37, 38, 39, 40, 41, 42, 43, 44, 45, 46, 47, 48, 49, 50, 51, 52, 53, 54, 55, 56, 57, 58, 59, 60, 61, 62, 63, 64, 65, 66, 67, 68, 69, 70, 71, 72, 73, 74, 75, 76, 77, 78, 79, 80, 81, 82, 83, 84, 85, 86, 87, 88, 89, 90, 91, 92, 93, 94, 95, 96, 97, 98, 99, 100]\n"
       ]
      }
     ],
     "prompt_number": 1
    },
    {
     "cell_type": "code",
     "collapsed": false,
     "input": [
      "%%timeit \n",
      "list_sum_v1 = 0\n",
      "for elem in res:\n",
      "    list_sum_v1+=elem"
     ],
     "language": "python",
     "metadata": {},
     "outputs": [
      {
       "output_type": "stream",
       "stream": "stdout",
       "text": [
        "100000 loops, best of 3: 3.53 \u00b5s per loop\n"
       ]
      }
     ],
     "prompt_number": 2
    },
    {
     "cell_type": "code",
     "collapsed": false,
     "input": [
      "list_sum_v1 = 0\n",
      "for elem in res:\n",
      "    list_sum_v1+=elem"
     ],
     "language": "python",
     "metadata": {},
     "outputs": [],
     "prompt_number": 4
    },
    {
     "cell_type": "code",
     "collapsed": false,
     "input": [
      "print(list_sum_v1)"
     ],
     "language": "python",
     "metadata": {},
     "outputs": [
      {
       "output_type": "stream",
       "stream": "stdout",
       "text": [
        "5050\n"
       ]
      }
     ],
     "prompt_number": 5
    },
    {
     "cell_type": "heading",
     "level": 2,
     "metadata": {},
     "source": [
      "Rozwi\u0105zanie lepsze"
     ]
    },
    {
     "cell_type": "code",
     "collapsed": false,
     "input": [
      "res = list(range(1, 101))\n"
     ],
     "language": "python",
     "metadata": {},
     "outputs": [],
     "prompt_number": 6
    },
    {
     "cell_type": "code",
     "collapsed": false,
     "input": [
      "%%timeit \n",
      "\n",
      "list_sum_v2 = sum(res)"
     ],
     "language": "python",
     "metadata": {},
     "outputs": [
      {
       "output_type": "stream",
       "stream": "stdout",
       "text": [
        "1000000 loops, best of 3: 925 ns per loop\n"
       ]
      }
     ],
     "prompt_number": 7
    },
    {
     "cell_type": "heading",
     "level": 1,
     "metadata": {},
     "source": [
      "Zadanie 2"
     ]
    },
    {
     "cell_type": "markdown",
     "metadata": {},
     "source": [
      "Dokonaj ca\u0142kowania metod\u0105\u00a0prostok\u0105t\u00f3w, funkcji sin(x) w zakresie od zera do 2*Pi korzystaj\u0105c dla miliona punkt\u00f3w"
     ]
    },
    {
     "cell_type": "code",
     "collapsed": false,
     "input": [
      "import math\n",
      "steps = 100000\n",
      "step = 2*math.pi/steps"
     ],
     "language": "python",
     "metadata": {},
     "outputs": [],
     "prompt_number": 8
    },
    {
     "cell_type": "code",
     "collapsed": false,
     "input": [
      "sin_sum = 0\n",
      "for ii in range(steps): \n",
      "    sin_sum += math.sin(ii*step)\n",
      "print(sin_sum)"
     ],
     "language": "python",
     "metadata": {},
     "outputs": [
      {
       "output_type": "stream",
       "stream": "stdout",
       "text": [
        "-7.1693784941965e-12\n"
       ]
      }
     ],
     "prompt_number": 9
    },
    {
     "cell_type": "heading",
     "level": 2,
     "metadata": {},
     "source": [
      "Zadanie 3"
     ]
    },
    {
     "cell_type": "markdown",
     "metadata": {},
     "source": [
      "Dawno temu wyznaczanie funkcji trygonometrycznych by\u0142o drogie i rozwiazywano ten problem tworz\u0105c tablic\u0119 zawieraj\u0105c\u0105 obliczone warto\u015bci tych funkcji w okre\u015blonej siatce wsp\u00f3\u0142prz\u0119dnych. \n",
      "\n",
      "Stw\u00f3rz s\u0142ownik zawieraj\u0105cy warto\u015bci sin(x) dla x w zakresie od 0 do 2*pi dla co 1E-5. \n",
      "\n",
      "Prosz\u0119 wyj\u0105\u0107 co\u015b ze s\u0142ownika. "
     ]
    },
    {
     "cell_type": "markdown",
     "metadata": {},
     "source": [
      "Dodatkowe informacje\n",
      "\n",
      "* Ze wzgl\u0119du na to \u017ce liczby zmiennoprzecinkowe s\u0105 **trudne** polecam u\u017cycie funkcji round przed zapisem klucza do s\u0142ownika. \n"
     ]
    },
    {
     "cell_type": "code",
     "collapsed": false,
     "input": [
      "val = 0.0\n",
      "result = {}\n",
      "while val < 2*math.pi:\n",
      "    result[val] = math.sin(val)\n",
      "    val = round(val+1E-5, 5)"
     ],
     "language": "python",
     "metadata": {},
     "outputs": [],
     "prompt_number": 10
    },
    {
     "cell_type": "code",
     "collapsed": false,
     "input": [
      "result[round(1.12345678312312, 5)]"
     ],
     "language": "python",
     "metadata": {},
     "outputs": [
      {
       "metadata": {},
       "output_type": "pyout",
       "prompt_number": 11,
       "text": [
        "0.9016025126169852"
       ]
      }
     ],
     "prompt_number": 11
    },
    {
     "cell_type": "heading",
     "level": 1,
     "metadata": {},
     "source": [
      "Zadanie 4"
     ]
    },
    {
     "cell_type": "markdown",
     "metadata": {},
     "source": [
      "Stw\u00f3rz struktur\u0119 danych kt\u00f3ra reprezentuje zoo. B\u0119dzie to lista s\u0142ownik\u00f3w, ka\u017cdy s\u0142ownik reprezentuje jedno zwierze. Lista powinna mie\u0107\u00a05 element\u00f3w, a ka\u017cde zwierze przynajmniej 3 w tym imi\u0119. \n",
      "\n",
      "Wy\u015bwietl: \n",
      "\n",
      "1. Ca\u0142\u0105 struktur\u0119 danych \n",
      "2. Dane drugiego zwierz\u0119cia\n",
      "3. Imiona wszystich zwierz\u0105t"
     ]
    },
    {
     "cell_type": "code",
     "collapsed": false,
     "input": [
      "zoo =[\n",
      "{\n",
      "    \"typ\": \"lis\",\n",
      "    \"imie\": \"Vitalis\",\n",
      "    \"masa\": (5, 'kg')\n",
      "}, \n",
      "{\n",
      "    \"typ\": \"mi\u015b\",\n",
      "    \"imie\": \"Koralgol\",\n",
      "    \"masa\": (5, 'kg')\n",
      "}, \n",
      "{\n",
      "    \"typ\": \"wiewi\u00f3rka\",\n",
      "    \"imie\": \"Chip\",\n",
      "    \"masa\": (5, 'g')\n",
      "}, \n",
      "]"
     ],
     "language": "python",
     "metadata": {},
     "outputs": [],
     "prompt_number": 13
    },
    {
     "cell_type": "code",
     "collapsed": false,
     "input": [
      "print(zoo)"
     ],
     "language": "python",
     "metadata": {},
     "outputs": [
      {
       "output_type": "stream",
       "stream": "stdout",
       "text": [
        "[{'imie': 'Vitalis', 'typ': 'lis', 'masa': (5, 'kg')}, {'imie': 'Koralgol', 'typ': 'mi\u015b', 'masa': (5, 'kg')}, {'imie': 'Chip', 'typ': 'wiewi\u00f3rka', 'masa': (5, 'g')}]\n"
       ]
      }
     ],
     "prompt_number": 14
    },
    {
     "cell_type": "code",
     "collapsed": false,
     "input": [
      "print(zoo[1])"
     ],
     "language": "python",
     "metadata": {},
     "outputs": [
      {
       "output_type": "stream",
       "stream": "stdout",
       "text": [
        "{'imie': 'Koralgol', 'typ': 'mi\u015b', 'masa': (5, 'kg')}\n"
       ]
      }
     ],
     "prompt_number": 15
    },
    {
     "cell_type": "code",
     "collapsed": false,
     "input": [
      "for z in zoo:\n",
      "    print(z['imie'])"
     ],
     "language": "python",
     "metadata": {},
     "outputs": [
      {
       "output_type": "stream",
       "stream": "stdout",
       "text": [
        "Vitalis\n",
        "Koralgol\n",
        "Chip\n"
       ]
      }
     ],
     "prompt_number": 16
    }
   ],
   "metadata": {}
  }
 ]
}